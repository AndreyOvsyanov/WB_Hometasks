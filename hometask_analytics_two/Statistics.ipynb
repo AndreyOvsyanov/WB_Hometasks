{
  "nbformat": 4,
  "nbformat_minor": 0,
  "metadata": {
    "colab": {
      "provenance": []
    },
    "kernelspec": {
      "name": "python3",
      "display_name": "Python 3"
    },
    "language_info": {
      "name": "python"
    }
  },
  "cells": [
    {
      "cell_type": "code",
      "execution_count": 63,
      "metadata": {
        "colab": {
          "base_uri": "https://localhost:8080/"
        },
        "id": "hs5I_xi9Sm7_",
        "outputId": "dd0c27a2-1dc0-4850-d998-c6ecca44dd9a"
      },
      "outputs": [
        {
          "output_type": "stream",
          "name": "stdout",
          "text": [
            "Requirement already satisfied: numpy in /usr/local/lib/python3.10/dist-packages (1.23.5)\n",
            "Requirement already satisfied: matplotlib in /usr/local/lib/python3.10/dist-packages (3.7.1)\n",
            "Requirement already satisfied: seaborn in /usr/local/lib/python3.10/dist-packages (0.12.2)\n",
            "Requirement already satisfied: pandas in /usr/local/lib/python3.10/dist-packages (1.5.3)\n",
            "Requirement already satisfied: contourpy>=1.0.1 in /usr/local/lib/python3.10/dist-packages (from matplotlib) (1.2.0)\n",
            "Requirement already satisfied: cycler>=0.10 in /usr/local/lib/python3.10/dist-packages (from matplotlib) (0.12.1)\n",
            "Requirement already satisfied: fonttools>=4.22.0 in /usr/local/lib/python3.10/dist-packages (from matplotlib) (4.44.3)\n",
            "Requirement already satisfied: kiwisolver>=1.0.1 in /usr/local/lib/python3.10/dist-packages (from matplotlib) (1.4.5)\n",
            "Requirement already satisfied: packaging>=20.0 in /usr/local/lib/python3.10/dist-packages (from matplotlib) (23.2)\n",
            "Requirement already satisfied: pillow>=6.2.0 in /usr/local/lib/python3.10/dist-packages (from matplotlib) (9.4.0)\n",
            "Requirement already satisfied: pyparsing>=2.3.1 in /usr/local/lib/python3.10/dist-packages (from matplotlib) (3.1.1)\n",
            "Requirement already satisfied: python-dateutil>=2.7 in /usr/local/lib/python3.10/dist-packages (from matplotlib) (2.8.2)\n",
            "Requirement already satisfied: pytz>=2020.1 in /usr/local/lib/python3.10/dist-packages (from pandas) (2023.3.post1)\n",
            "Requirement already satisfied: six>=1.5 in /usr/local/lib/python3.10/dist-packages (from python-dateutil>=2.7->matplotlib) (1.16.0)\n"
          ]
        }
      ],
      "source": [
        "!pip install numpy matplotlib seaborn pandas"
      ]
    },
    {
      "cell_type": "code",
      "source": [
        "import numpy as np\n",
        "import pandas as pd\n",
        "import matplotlib.pyplot as plt\n",
        "import seaborn as sns"
      ],
      "metadata": {
        "id": "XLEw_HHZS4sp"
      },
      "execution_count": 64,
      "outputs": []
    },
    {
      "cell_type": "markdown",
      "source": [
        "# Первое задание"
      ],
      "metadata": {
        "id": "N1gMTB5FmVHJ"
      }
    },
    {
      "cell_type": "code",
      "source": [
        "# Считаем данные с разделителем в виде звёздочки\n",
        "# Без индексов, с кодировкой utf-8\n",
        "\n",
        "df = pd.read_csv('avito_flats_inner_merged.csv', sep='*', index_col=None, encoding='utf-8')"
      ],
      "metadata": {
        "id": "1TtV68AETDTX"
      },
      "execution_count": 65,
      "outputs": []
    },
    {
      "cell_type": "code",
      "source": [
        "# Индексы остались, давайте дропнем их\n",
        "\n",
        "df = df.drop(['Unnamed: 0'], axis=1)"
      ],
      "metadata": {
        "id": "a7mpZY2LUdmH"
      },
      "execution_count": 66,
      "outputs": []
    },
    {
      "cell_type": "code",
      "source": [
        "df.columns"
      ],
      "metadata": {
        "colab": {
          "base_uri": "https://localhost:8080/"
        },
        "id": "EK0Rq6Teioul",
        "outputId": "a003b30f-de36-4d42-f96c-1bc9376bbe9c"
      },
      "execution_count": 67,
      "outputs": [
        {
          "output_type": "execute_result",
          "data": {
            "text/plain": [
              "Index(['id', 'Город', 'Улица', 'Геометка_дома', 'Цена', 'Количество_комнат',\n",
              "       'Общая_площадь', 'Материал_стен', 'Дата', 'Площадь_кухни',\n",
              "       'Жилая_площадь', 'Этаж', 'Фото', 'Описание'],\n",
              "      dtype='object')"
            ]
          },
          "metadata": {},
          "execution_count": 67
        }
      ]
    },
    {
      "cell_type": "code",
      "source": [
        "# Удалим дупликаты\n",
        "df = df.drop_duplicates()"
      ],
      "metadata": {
        "id": "n86N8ReuWTIK"
      },
      "execution_count": 68,
      "outputs": []
    },
    {
      "cell_type": "code",
      "source": [
        "# Проверка на пустые значения\n",
        "\n",
        "for column in df.columns:\n",
        "  if df[column].isna().any():\n",
        "    print(\"Столбец {} содержит пустые значения\".format(column))\n",
        "  else:\n",
        "    print(\"Столбец {} не содержит пустые значения\".format(column))"
      ],
      "metadata": {
        "colab": {
          "base_uri": "https://localhost:8080/"
        },
        "id": "wdTmGhWrjAvM",
        "outputId": "56b83294-b3ce-4494-f364-b806b90772f4"
      },
      "execution_count": 69,
      "outputs": [
        {
          "output_type": "stream",
          "name": "stdout",
          "text": [
            "Столбец id не содержит пустые значения\n",
            "Столбец Город не содержит пустые значения\n",
            "Столбец Улица содержит пустые значения\n",
            "Столбец Геометка_дома не содержит пустые значения\n",
            "Столбец Цена не содержит пустые значения\n",
            "Столбец Количество_комнат не содержит пустые значения\n",
            "Столбец Общая_площадь не содержит пустые значения\n",
            "Столбец Материал_стен не содержит пустые значения\n",
            "Столбец Дата не содержит пустые значения\n",
            "Столбец Площадь_кухни не содержит пустые значения\n",
            "Столбец Жилая_площадь не содержит пустые значения\n",
            "Столбец Этаж не содержит пустые значения\n",
            "Столбец Фото не содержит пустые значения\n",
            "Столбец Описание не содержит пустые значения\n"
          ]
        }
      ]
    },
    {
      "cell_type": "code",
      "source": [
        "df['Цена'].fillna(df['Цена'].mean(), inplace=True)\n",
        "df['Улица'].fillna(df['Улица'].mode()[0], inplace=True)\n",
        "df['Общая_площадь'].fillna(df['Общая_площадь'].mean(), inplace=True)"
      ],
      "metadata": {
        "id": "ah14jkYBkKZa"
      },
      "execution_count": 70,
      "outputs": []
    },
    {
      "cell_type": "code",
      "source": [
        "# Преобразование даты в формат datetime\n",
        "\n",
        "df['Дата'] = pd.to_datetime(df['Дата'], format='%Y-%m-%d', errors='coerce')"
      ],
      "metadata": {
        "id": "Ljy8-bAmkCaM"
      },
      "execution_count": 71,
      "outputs": []
    },
    {
      "cell_type": "code",
      "source": [
        "# Обработка текстовых данных (например, удаление лишних символов, приведение к нижнему регистру):\n",
        "\n",
        "df['Описание'] = df['Описание'].str.lower()"
      ],
      "metadata": {
        "id": "HO8j3bzfkfC7"
      },
      "execution_count": 72,
      "outputs": []
    },
    {
      "cell_type": "markdown",
      "source": [
        "## Гипотезы"
      ],
      "metadata": {
        "id": "t3L5HqVJk0aa"
      }
    },
    {
      "cell_type": "markdown",
      "source": [
        "### Сегментация по районам:\n",
        "Гипотеза: Различные районы города могут иметь разные характеристики и цены на жилье. Вы можете сегментировать объявления по городским районам и провести анализ влияния района на цены и другие параметры.\n",
        "\n",
        "### Сегментация по типам материалов стен:\n",
        "Гипотеза: Тип материала стен может влиять на стоимость жилья и его привлекательность. Вы можете сегментировать объявления по материалу стен и проверить, есть ли различия в ценах и других характеристиках.\n",
        "\n",
        "### Сегментация по числу комнат:\n",
        "Гипотеза: Квартиры с разным количеством комнат могут привлекать разные категории покупателей. Вы можете сегментировать объявления по количеству комнат и исследовать различия в предпочтениях покупателей.\n",
        "\n",
        "### Сегментация по времени размещения объявлений:\n",
        "Гипотеза: Сезонные изменения могут влиять на цены и спрос на жилье. Сегментация по времени размещения объявлений может помочь выявить сезонные тенденции на рынке недвижимости.\n",
        "\n",
        "### Сегментация по площади квартир:\n",
        "Гипотеза: Размер квартиры может быть важным фактором при выборе жилья. Вы можете сегментировать объявления по площади и исследовать, как размер влияет на цены и спрос."
      ],
      "metadata": {
        "id": "RsiAaJ0tktda"
      }
    },
    {
      "cell_type": "markdown",
      "source": [
        "# Второе задание"
      ],
      "metadata": {
        "id": "987_Cj9OqEng"
      }
    },
    {
      "cell_type": "code",
      "source": [
        "df = pd.read_csv('town_1959.csv', encoding='cp1251')"
      ],
      "metadata": {
        "id": "EkV81ak-mX1p"
      },
      "execution_count": 73,
      "outputs": []
    },
    {
      "cell_type": "code",
      "source": [
        "# Вывод общей информации о данных\n",
        "print(df.info())\n",
        "\n",
        "# Вывод статистики по числовым данным, включая среднее и медиану\n",
        "print(df.describe())\n",
        "\n",
        "# Вывод среднего и медианы по столбцу 'население'\n",
        "mean_population = df['население'].mean()\n",
        "median_population = df['население'].median()\n",
        "\n",
        "print(f\"Среднее население: {mean_population}\")\n",
        "print(f\"Медианное население: {median_population}\")"
      ],
      "metadata": {
        "colab": {
          "base_uri": "https://localhost:8080/"
        },
        "id": "uvp2ZwAqnTpK",
        "outputId": "4c003b4b-8e8f-4caf-9ffc-5b003895721a"
      },
      "execution_count": 74,
      "outputs": [
        {
          "output_type": "stream",
          "name": "stdout",
          "text": [
            "<class 'pandas.core.frame.DataFrame'>\n",
            "RangeIndex: 1004 entries, 0 to 1003\n",
            "Data columns (total 3 columns):\n",
            " #   Column     Non-Null Count  Dtype  \n",
            "---  ------     --------------  -----  \n",
            " 0   номер      1004 non-null   object \n",
            " 1   город      1004 non-null   object \n",
            " 2   население  1004 non-null   float64\n",
            "dtypes: float64(1), object(2)\n",
            "memory usage: 23.7+ KB\n",
            "None\n",
            "         население\n",
            "count  1004.000000\n",
            "mean     52.925199\n",
            "std     204.885662\n",
            "min       0.100000\n",
            "25%      10.700000\n",
            "50%      19.250000\n",
            "75%      37.975000\n",
            "max    5046.000000\n",
            "Среднее население: 52.92519920318725\n",
            "Медианное население: 19.25\n"
          ]
        }
      ]
    }
  ]
}