{
 "cells": [
  {
   "cell_type": "markdown",
   "id": "d232ebe5-1089-452b-b30b-b84317fe6bb0",
   "metadata": {
    "pycharm": {
     "name": "#%% md\n"
    }
   },
   "source": [
    "Домашнее задание numpy \n",
    "список вариантов по фамилиям: \n",
    "\n",
    "Андрей Овсянов - 14 вариант "
   ]
  },
  {
   "cell_type": "markdown",
   "id": "d27a35c1-99d5-44db-a80e-31ffc4323918",
   "metadata": {
    "pycharm": {
     "name": "#%% md\n"
    }
   },
   "source": [
    "<h1> Задание 1 </h1>\n",
    "На маркетплейсе есть огромный объем данных содержащий записи о продажах различных продуктов. Наша цель — рассчитать общий доход, полученный от каждого продукта за определённый период.\n",
    "\n",
    "Необходимо решить задачу через классический python, numpy и numpy с использованием векторизации\n",
    "\n",
    "Данные: products = ['автомобиль HAVAL', 'обувь', 'одежда', 'телефоны'] (при решении через numpy необходимо представить это в виде np.array() ) prices = [20000, 3000, 45600, 5000] (при решении через numpy необходимо представить это в виде np.array() )\n",
    "\n",
    "Данные о продажах необходимо сгенерировать самостоятельно и вывести в одном параграфов в ноутбуке, ниже приведен пример генерации случайных значений"
   ]
  },
  {
   "cell_type": "code",
   "execution_count": 38,
   "id": "81265be9-5a90-4650-b349-62ab5d6ad0bf",
   "metadata": {
    "pycharm": {
     "name": "#%%\n"
    }
   },
   "outputs": [
    {
     "name": "stdout",
     "output_type": "stream",
     "text": [
      "Чистый питон\n",
      " Общая выручка с продажи товара: автомобиль HAVAL = 113988180000.0\n",
      " Общая выручка с продажи товара: обувь = 17094516000.0\n",
      " Общая выручка с продажи товара: одежда = 259871071200.0\n",
      " Общая выручка с продажи товара: телефоны = 28497830000.0\n",
      " Время выполнения: 0.036 sec.\n",
      "С использованием numpy\n",
      " Общая выручка с продажи товара: автомобиль HAVAL = 113988180000.0\n",
      " Общая выручка с продажи товара: обувь = 17094516000.0\n",
      " Общая выручка с продажи товара: одежда = 259871071200.0\n",
      " Общая выручка с продажи товара: телефоны = 28497830000.0\n",
      " Время выполнения: 0.158 sec.\n",
      "С использованием numpy-векторизации\n",
      " Общая выручка с продажи товара: автомобиль HAVAL = 113988180000.0\n",
      " Общая выручка с продажи товара: обувь = 17094516000.0\n",
      " Общая выручка с продажи товара: одежда = 259871071200.0\n",
      " Общая выручка с продажи товара: телефоны = 28497830000.0\n",
      " Время выполнения: 0.032 sec.\n"
     ]
    }
   ],
   "source": [
    "# пример генерации на python\n",
    "\n",
    "import random\n",
    "import numpy\n",
    "\n",
    "variant = 14 # подставьте номер своего  варианта\n",
    "sales_list = [[random.randint(0, variant+100) for i in range(100000)] for i in range(4)]\n",
    "products = ['автомобиль HAVAL', 'обувь', 'одежда', 'телефоны']\n",
    "prices = [20000.0, 3000.0, 45600.0, 5000.0]\n",
    "\n",
    "import timeit \n",
    "\n",
    "\n",
    "print(\"Чистый питон\")\n",
    "start = timeit.default_timer()\n",
    "for i, product in enumerate(products):\n",
    "    product_sales = [prices[i] * sale for sale in sales_list[i]]\n",
    "    print(\" Общая выручка с продажи товара: {} = {}\".format(product, sum(product_sales)))\n",
    "\n",
    "print(\" Время выполнения: {} sec.\".format(round(timeit.default_timer() - start, 3)))\n",
    "\n",
    "sales_list = np.array(sales_list)\n",
    "products = np.array(products)\n",
    "prices = np.array(prices, dtype=float)\n",
    "\n",
    "\n",
    "print(\"С использованием numpy\")\n",
    "start = timeit.default_timer()\n",
    "for i, product in enumerate(products):\n",
    "    product_sales = [prices[i] * sale for sale in sales_list[i]] # Произведение вектора на массив\n",
    "    print(\" Общая выручка с продажи товара: {} = {}\".format(product, sum(product_sales)))\n",
    "\n",
    "print(\" Время выполнения: {} sec.\".format(round(timeit.default_timer() - start, 3)))\n",
    "\n",
    "\n",
    "print(\"С использованием numpy-векторизации\")\n",
    "start = timeit.default_timer()\n",
    "\n",
    "for i, product in enumerate(products):\n",
    "    product_sales = sales_list[i] * prices[i]\n",
    "    print(\" Общая выручка с продажи товара: {} = {}\".format(product, sum(product_sales)))\n",
    "\n",
    "print(\" Время выполнения: {} sec.\".format(round(timeit.default_timer() - start, 3)))"
   ]
  },
  {
   "cell_type": "markdown",
   "id": "ce937e48-9ecc-439f-8f90-e73fcc577c28",
   "metadata": {
    "pycharm": {
     "name": "#%% md\n"
    }
   },
   "source": [
    "# Задание 2\n",
    "\n",
    "\n",
    "Необходимо написать с использованием numpy реализацию одного из следующих алгоритмов:\n",
    "\n",
    "heapsort (вариант: 1,5,9,13,17,21)\n",
    "\n",
    "mergesort (вариант: 2,6,10,14,18,22)\n",
    "\n",
    "stable (вариант: 3,7,11,15,19)\n",
    "\n",
    "quicksort (вариант: 4,8,12,16,20)\n",
    "\n",
    "Сравнить скорость выполнения этих алгоритмов на чистом python, вашей реализации и numpy.sort()"
   ]
  },
  {
   "cell_type": "markdown",
   "id": "0db681bc-4a21-4f2d-8ef2-b2d7f2e155f0",
   "metadata": {
    "pycharm": {
     "name": "#%% md\n"
    }
   },
   "source": [
    "Моему варианту ( 14 ) соответствует mergesort, напишем алгоритм с использованием numpy.array"
   ]
  },
  {
   "cell_type": "code",
   "execution_count": 34,
   "id": "d118f26d-ec7e-4e4b-a91a-1ff91e9fdce1",
   "metadata": {
    "pycharm": {
     "name": "#%%\n"
    }
   },
   "outputs": [
    {
     "name": "stdout",
     "output_type": "stream",
     "text": [
      "Сортировка на чистом python\n",
      "41.9 ms ± 1.25 ms per loop (mean ± std. dev. of 7 runs, 10 loops each)\n",
      "Сортировка реализацией mergesort с использованием numpy\n",
      "12 s ± 989 ms per loop (mean ± std. dev. of 7 runs, 1 loop each)\n",
      "Сортировка использованием встроенной функции numpy.sort()\n",
      "4.77 ms ± 223 µs per loop (mean ± std. dev. of 7 runs, 100 loops each)\n"
     ]
    }
   ],
   "source": [
    "import numpy as np\n",
    "\n",
    "def merge(left, right):\n",
    "    result = np.array([])\n",
    "\n",
    "    while left.size > 0 and right.size > 0:\n",
    "        if left[0] < right[0]:\n",
    "            result = np.append(result, left[0])\n",
    "            left = left[1:]\n",
    "        else:\n",
    "            result = np.append(result, right[0])\n",
    "            right = right[1:]\n",
    "\n",
    "    result = np.append(result, left)\n",
    "    result = np.append(result, right)\n",
    "    \n",
    "    return result\n",
    "\n",
    "def merge_sort(arr):\n",
    "    if arr.size <= 1:\n",
    "        return arr\n",
    "\n",
    "    middle = arr.size // 2\n",
    "    left = arr[:middle]\n",
    "    right = arr[middle:]\n",
    "\n",
    "    left = merge_sort(left)\n",
    "    right = merge_sort(right)\n",
    "\n",
    "    return merge(left, right)\n",
    "\n",
    "\n",
    "arr = np.array([random.randint(-variant*100, variant*100) for i in range(100000)])\n",
    "print(\"Сортировка на чистом python\")\n",
    "%timeit sorted(arr)\n",
    "print(\"Сортировка реализацией mergesort с использованием numpy\")\n",
    "%timeit merge_sort(arr)\n",
    "print(\"Сортировка использованием встроенной функции numpy.sort()\")\n",
    "%timeit np.sort(arr)\n"
   ]
  },
  {
   "cell_type": "markdown",
   "id": "20e43a28-1695-43f6-a2ba-6e7b5b971b67",
   "metadata": {
    "pycharm": {
     "name": "#%% md\n"
    }
   },
   "source": [
    "На массивах большей длины эффективней всего отрабатывает numpy.sort()"
   ]
  },
  {
   "cell_type": "markdown",
   "id": "4c34d0a7-1144-48d0-874e-65abdf1ab2fc",
   "metadata": {
    "pycharm": {
     "name": "#%% md\n"
    }
   },
   "source": [
    "<h1>Задание №3</h1>"
   ]
  },
  {
   "cell_type": "code",
   "execution_count": 35,
   "id": "931ed72f-dc4e-4a9a-a1be-05f668fbdf16",
   "metadata": {
    "pycharm": {
     "name": "#%%\n"
    }
   },
   "outputs": [
    {
     "name": "stdout",
     "output_type": "stream",
     "text": [
      "Страна с наибольшим потреблением beer_servings: Namibia\n",
      "Количество потребляемого алкоголя: 376\n",
      "Страна с наибольшим потреблением spirit_servings: Grenada\n",
      "Количество потребляемого алкоголя: 438\n",
      "Страна с наибольшим потреблением wine_servings: France\n",
      "Количество потребляемого алкоголя: 370\n",
      "Страна с наибольшим потреблением total_litres_of_pure_alcohol: Belarus\n",
      "Количество потребляемого алкоголя: 14.4\n"
     ]
    }
   ],
   "source": [
    "# Загрузка данных из CSV-файла\n",
    "data_url = \"https://raw.githubusercontent.com/fivethirtyeight/data/master/alcohol-consumption/drinks.csv\"\n",
    "data = np.genfromtxt(data_url, delimiter=',', dtype=None, names=True, encoding=None)\n",
    "\n",
    "# Вывести названия столбцов\n",
    "\n",
    "for i, column_name in enumerate(data.dtype.names[1:]):\n",
    "    record = data[np.argmax(data[column_name])]\n",
    "    print(\"Страна с наибольшим потреблением {}: {}\".format(column_name, record[0]))\n",
    "    print(\"Количество потребляемого алкоголя: {}\".format(record[i+1]))"
   ]
  },
  {
   "cell_type": "markdown",
   "id": "62dcbb8c-fddc-4e63-a479-c616b3ba0eba",
   "metadata": {
    "pycharm": {
     "name": "#%% md\n"
    }
   },
   "source": [
    "<h1>Задание №4</h1>\n",
    "\n",
    "У нас есть Полный каталог всех случаев, когда кто-то проклинал или истекал кровью в фильме Квентина Тарантино. https://github.com/fivethirtyeight/data/tree/master/tarantino\n",
    "\n",
    "Давайте представим эти данные в виде структурированных массивов и определим:\n",
    "\n",
    "- число проклятий, летальных исходов и их отношение по фильмам \n",
    "\n",
    "- частота употребления конкретных прокрятий \n",
    "\n",
    "- распределение времени между проклятиями "
   ]
  },
  {
   "cell_type": "code",
   "execution_count": 81,
   "id": "4abbace0-f31f-4c6a-8a32-a4331a611920",
   "metadata": {
    "pycharm": {
     "name": "#%%\n"
    }
   },
   "outputs": [],
   "source": [
    "# Загрузка данных из CSV-файла\n",
    "data_url = \"https://raw.githubusercontent.com/fivethirtyeight/data/master/tarantino/tarantino.csv\"\n",
    "data = np.genfromtxt(data_url, delimiter=',', dtype=None, names=True, encoding=None)"
   ]
  },
  {
   "cell_type": "markdown",
   "id": "eecad81d-f7d5-494e-adfb-e09d91376064",
   "metadata": {
    "pycharm": {
     "name": "#%% md\n"
    }
   },
   "source": [
    "- число проклятий, летальных исходов и их отношение по фильмам "
   ]
  },
  {
   "cell_type": "code",
   "execution_count": 82,
   "id": "885721b9-086f-4b32-a81b-99c5f5c61f57",
   "metadata": {
    "pycharm": {
     "name": "#%%\n"
    }
   },
   "outputs": [],
   "source": [
    "movies = np.unique(data['movie'])\n",
    "\n",
    "film_stats = np.zeros((len(movies), 4)) # cursing, lethal, other, lethal_ratio\n",
    "\n",
    "movies = np.unique(data['movie'])\n",
    "film_stats = np.zeros((len(movies), 4))\n",
    "\n",
    "for i, movie in enumerate(movies):\n",
    "    current_movie = data[data['movie'] == movie]\n",
    "    curse = len(current_movie[current_movie['type'] == 'word'])\n",
    "    death = len(current_movie[current_movie['type'] == 'death'])\n",
    "    film_stats[i] = [curse, death, 0, 0]"
   ]
  },
  {
   "cell_type": "code",
   "execution_count": 83,
   "id": "9c12e105-9672-4746-92cd-e876ea7a190c",
   "metadata": {
    "pycharm": {
     "name": "#%%\n"
    }
   },
   "outputs": [],
   "source": [
    "total_sum_curse = np.sum(film_stats[:, 0])\n",
    "total_sum_death = np.sum(film_stats[:, 1])\n",
    "\n",
    "film_stats[:, 2] = film_stats[:, 0] / total_sum_curse\n",
    "film_stats[:, 3] = film_stats[:, 1] / total_sum_death\n",
    "\n",
    "np.set_printoptions(suppress=True)\n",
    "film_stats = np.round(film_stats, 2)"
   ]
  },
  {
   "cell_type": "code",
   "execution_count": 97,
   "id": "087eb0d3-a728-44b6-b045-7fe08eb49fc9",
   "metadata": {
    "pycharm": {
     "name": "#%%\n"
    }
   },
   "outputs": [
    {
     "name": "stdout",
     "output_type": "stream",
     "text": [
      "Фильм: Django Unchained\n",
      " Количество проклятий: 262 и их отношение к общему количеству: 0.15\n",
      " Количество смертей: 47 и их отношение к общему количеству: 0.25\n",
      " Отношение смертей к проклятиям: 47.0/262.0 = 0.18\n",
      "Фильм: Inglorious Basterds\n",
      " Количество проклятий: 58 и их отношение к общему количеству: 0.03\n",
      " Количество смертей: 48 и их отношение к общему количеству: 0.25\n",
      " Отношение смертей к проклятиям: 48.0/58.0 = 0.83\n",
      "Фильм: Jackie Brown\n",
      " Количество проклятий: 368 и их отношение к общему количеству: 0.22\n",
      " Количество смертей: 4 и их отношение к общему количеству: 0.02\n",
      " Отношение смертей к проклятиям: 4.0/368.0 = 0.01\n",
      "Фильм: Kill Bill: Vol. 1\n",
      " Количество проклятий: 57 и их отношение к общему количеству: 0.03\n",
      " Количество смертей: 63 и их отношение к общему количеству: 0.33\n",
      " Отношение смертей к проклятиям: 63.0/57.0 = 1.11\n",
      "Фильм: Kill Bill: Vol. 2\n",
      " Количество проклятий: 69 и их отношение к общему количеству: 0.04\n",
      " Количество смертей: 11 и их отношение к общему количеству: 0.06\n",
      " Отношение смертей к проклятиям: 11.0/69.0 = 0.16\n",
      "Фильм: Pulp Fiction\n",
      " Количество проклятий: 469 и их отношение к общему количеству: 0.28\n",
      " Количество смертей: 7 и их отношение к общему количеству: 0.04\n",
      " Отношение смертей к проклятиям: 7.0/469.0 = 0.01\n",
      "Фильм: Reservoir Dogs\n",
      " Количество проклятий: 421 и их отношение к общему количеству: 0.25\n",
      " Количество смертей: 10 и их отношение к общему количеству: 0.05\n",
      " Отношение смертей к проклятиям: 10.0/421.0 = 0.02\n"
     ]
    }
   ],
   "source": [
    "for pos in range(len(movies)):\n",
    "    film_stat = film_stats[pos]\n",
    "    print(\"Фильм: {}\".format(movies[pos]))\n",
    "    print(\" Количество проклятий: {} и их отношение к общему количеству: {}\".format(int(film_stat[0]), film_stat[2]))\n",
    "    print(\" Количество смертей: {} и их отношение к общему количеству: {}\".format(int(film_stat[1]), film_stat[3]))\n",
    "    print(\" Отношение смертей к проклятиям: {}/{} = {}\".format(film_stat[1], film_stat[0], round(film_stat[1] / film_stat[0], 2)))"
   ]
  },
  {
   "cell_type": "markdown",
   "id": "b2f7938b-3445-4e6a-bf5d-b1f03b4949da",
   "metadata": {
    "pycharm": {
     "name": "#%% md\n"
    }
   },
   "source": [
    "- частота употребления конкретных проклятий "
   ]
  },
  {
   "cell_type": "code",
   "execution_count": 86,
   "id": "755e9fe9-7d4e-4c4d-b609-a9ee0081ed0f",
   "metadata": {
    "pycharm": {
     "name": "#%%\n"
    }
   },
   "outputs": [
    {
     "data": {
      "text/plain": [
       "Counter({'fucking': 407,\n",
       "         'shit': 221,\n",
       "         'fuck': 213,\n",
       "         'n-word ': 179,\n",
       "         'ass': 140,\n",
       "         'goddamn': 113,\n",
       "         'motherfucker': 70,\n",
       "         'bitch': 64,\n",
       "         'hell': 45,\n",
       "         'damn': 37,\n",
       "         'motherfucking': 27,\n",
       "         'fucked': 25,\n",
       "         'bullshit': 15,\n",
       "         'motherfuckers': 15,\n",
       "         'dick': 14,\n",
       "         'pussy': 11,\n",
       "         'bastard': 10,\n",
       "         'asshole': 10,\n",
       "         'bitches': 9,\n",
       "         'fucker': 8,\n",
       "         'dicks': 5,\n",
       "         'assholes': 5,\n",
       "         'negro ': 5,\n",
       "         'asses': 4,\n",
       "         'shitty': 4,\n",
       "         'fucks': 3,\n",
       "         'damned': 3,\n",
       "         'shithead': 3,\n",
       "         'wetback': 2,\n",
       "         'cocksucker': 2,\n",
       "         'gooks': 2,\n",
       "         'cunt': 2,\n",
       "         'japs': 2,\n",
       "         'horseshit': 2,\n",
       "         'shitload': 2,\n",
       "         'jap': 1,\n",
       "         'fuckup': 1,\n",
       "         'asshead': 1,\n",
       "         'faggot': 1,\n",
       "         'gook': 1,\n",
       "         'fuckers': 1,\n",
       "         'dickless': 1,\n",
       "         'chickenshit': 1,\n",
       "         'slope': 1,\n",
       "         'fuckhead': 1,\n",
       "         'merde': 1,\n",
       "         'cunts': 1,\n",
       "         'fuckface': 1,\n",
       "         'cockblockery': 1,\n",
       "         'jew (verb)': 1,\n",
       "         'bastards': 1,\n",
       "         'horeshit': 1,\n",
       "         'shitless': 1,\n",
       "         'shitting': 1,\n",
       "         'squaw': 1,\n",
       "         'slut': 1,\n",
       "         'goddamned': 1,\n",
       "         'jackass': 1,\n",
       "         'shittiest': 1,\n",
       "         'dumbass': 1})"
      ]
     },
     "execution_count": 86,
     "metadata": {},
     "output_type": "execute_result"
    }
   ],
   "source": [
    "from collections import Counter\n",
    "\n",
    "curse = data['word']\n",
    "\n",
    "curse_counts = Counter(curse)\n",
    "curse_counts.pop('') # Удаляем смерти\n",
    "curse_counts"
   ]
  },
  {
   "cell_type": "markdown",
   "id": "a0bf2d4d-4d31-4053-93c3-beabcaf86cf6",
   "metadata": {
    "pycharm": {
     "name": "#%% md\n"
    }
   },
   "source": [
    "- распределение времени между проклятиями"
   ]
  },
  {
   "cell_type": "code",
   "execution_count": 98,
   "id": "7c6846a3-e9f9-429c-8130-98ce5791e563",
   "metadata": {
    "pycharm": {
     "name": "#%%\n"
    }
   },
   "outputs": [],
   "source": [
    "data_without_death = data[data['type'] == 'word']\n",
    "time_between_cursing = data_without_death['minutes_in']\n",
    "\n",
    "time_diff = np.diff(time_between_cursing)"
   ]
  },
  {
   "cell_type": "code",
   "execution_count": 99,
   "id": "944de0dd-d856-4276-bcdc-72e53dee8c8b",
   "metadata": {
    "pycharm": {
     "name": "#%%\n"
    }
   },
   "outputs": [
    {
     "data": {
      "image/png": "[encoded data removed]",
      "text/plain": [
       "<Figure size 1000x600 with 1 Axes>"
      ]
     },
     "metadata": {},
     "output_type": "display_data"
    }
   ],
   "source": [
    "import matplotlib.pyplot as plt\n",
    "\n",
    "# Создаем гистограмму\n",
    "plt.figure(figsize=(10, 6))\n",
    "plt.hist(time_diff, bins=50, color='skyblue', edgecolor='black')\n",
    "plt.title(\"Распределение времени между проклятиями\")\n",
    "plt.xlabel(\"Время между проклятиями (минуты)\")\n",
    "plt.ylabel(\"Частота\")\n",
    "plt.grid(True)\n",
    "\n",
    "# Отобразим гистограмму\n",
    "plt.show()"
   ]
  },
  {
   "cell_type": "code",
   "execution_count": null,
   "id": "12eb8892-7170-4a9b-a008-ca894112423d",
   "metadata": {
    "pycharm": {
     "name": "#%%\n"
    }
   },
   "outputs": [],
   "source": []
  }
 ],
 "metadata": {
  "kernelspec": {
   "display_name": "Python 3 (ipykernel)",
   "language": "python",
   "name": "python3"
  },
  "language_info": {
   "codemirror_mode": {
    "name": "ipython",
    "version": 3
   },
   "file_extension": ".py",
   "mimetype": "text/x-python",
   "name": "python",
   "nbconvert_exporter": "python",
   "pygments_lexer": "ipython3",
   "version": "3.12.0"
  }
 },
 "nbformat": 4,
 "nbformat_minor": 5
}