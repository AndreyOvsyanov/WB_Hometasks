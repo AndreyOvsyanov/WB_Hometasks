{
 "cells": [
  {
   "cell_type": "code",
   "execution_count": 13,
   "metadata": {
    "pycharm": {
     "name": "#%%\n"
    }
   },
   "outputs": [],
   "source": [
    "import pandas as pd\n",
    "import scipy\n",
    "import matplotlib.pyplot as plt\n",
    "from scipy.stats import pearsonr, f_oneway, chi2_contingency\n"
   ]
  },
  {
   "cell_type": "markdown",
   "metadata": {
    "pycharm": {
     "name": "#%% md\n"
    }
   },
   "source": [
    "\n",
    "<h1>Задание 1</h1>\n",
    "\n",
    "есть небольшой искусственный датасет: https://www.kaggle.com/datasets/iamsouravbanerjee/customer-shopping-trends-dataset/data   \n",
    "Необходимо прочитать его и представить в виде df "
   ]
  },
  {
   "cell_type": "code",
   "execution_count": 3,
   "metadata": {
    "pycharm": {
     "name": "#%%\n"
    }
   },
   "outputs": [
    {
     "data": {
      "text/html": [
       "<div>\n",
       "<style scoped>\n",
       "    .dataframe tbody tr th:only-of-type {\n",
       "        vertical-align: middle;\n",
       "    }\n",
       "\n",
       "    .dataframe tbody tr th {\n",
       "        vertical-align: top;\n",
       "    }\n",
       "\n",
       "    .dataframe thead th {\n",
       "        text-align: right;\n",
       "    }\n",
       "</style>\n",
       "<table border=\"1\" class=\"dataframe\">\n",
       "  <thead>\n",
       "    <tr style=\"text-align: right;\">\n",
       "      <th></th>\n",
       "      <th>Customer ID</th>\n",
       "      <th>Age</th>\n",
       "      <th>Gender</th>\n",
       "      <th>Item Purchased</th>\n",
       "      <th>Category</th>\n",
       "      <th>Purchase Amount (USD)</th>\n",
       "      <th>Location</th>\n",
       "      <th>Size</th>\n",
       "      <th>Color</th>\n",
       "      <th>Season</th>\n",
       "      <th>Review Rating</th>\n",
       "      <th>Subscription Status</th>\n",
       "      <th>Shipping Type</th>\n",
       "      <th>Discount Applied</th>\n",
       "      <th>Promo Code Used</th>\n",
       "      <th>Previous Purchases</th>\n",
       "      <th>Payment Method</th>\n",
       "      <th>Frequency of Purchases</th>\n",
       "    </tr>\n",
       "  </thead>\n",
       "  <tbody>\n",
       "    <tr>\n",
       "      <th>0</th>\n",
       "      <td>1</td>\n",
       "      <td>55</td>\n",
       "      <td>Male</td>\n",
       "      <td>Blouse</td>\n",
       "      <td>Clothing</td>\n",
       "      <td>53</td>\n",
       "      <td>Kentucky</td>\n",
       "      <td>L</td>\n",
       "      <td>Gray</td>\n",
       "      <td>Winter</td>\n",
       "      <td>3.1</td>\n",
       "      <td>Yes</td>\n",
       "      <td>Express</td>\n",
       "      <td>Yes</td>\n",
       "      <td>Yes</td>\n",
       "      <td>14</td>\n",
       "      <td>Venmo</td>\n",
       "      <td>Fortnightly</td>\n",
       "    </tr>\n",
       "    <tr>\n",
       "      <th>1</th>\n",
       "      <td>2</td>\n",
       "      <td>19</td>\n",
       "      <td>Male</td>\n",
       "      <td>Sweater</td>\n",
       "      <td>Clothing</td>\n",
       "      <td>64</td>\n",
       "      <td>Maine</td>\n",
       "      <td>L</td>\n",
       "      <td>Maroon</td>\n",
       "      <td>Winter</td>\n",
       "      <td>3.1</td>\n",
       "      <td>Yes</td>\n",
       "      <td>Express</td>\n",
       "      <td>Yes</td>\n",
       "      <td>Yes</td>\n",
       "      <td>2</td>\n",
       "      <td>Cash</td>\n",
       "      <td>Fortnightly</td>\n",
       "    </tr>\n",
       "    <tr>\n",
       "      <th>2</th>\n",
       "      <td>3</td>\n",
       "      <td>50</td>\n",
       "      <td>Male</td>\n",
       "      <td>Jeans</td>\n",
       "      <td>Clothing</td>\n",
       "      <td>73</td>\n",
       "      <td>Massachusetts</td>\n",
       "      <td>S</td>\n",
       "      <td>Maroon</td>\n",
       "      <td>Spring</td>\n",
       "      <td>3.1</td>\n",
       "      <td>Yes</td>\n",
       "      <td>Free Shipping</td>\n",
       "      <td>Yes</td>\n",
       "      <td>Yes</td>\n",
       "      <td>23</td>\n",
       "      <td>Credit Card</td>\n",
       "      <td>Weekly</td>\n",
       "    </tr>\n",
       "    <tr>\n",
       "      <th>3</th>\n",
       "      <td>4</td>\n",
       "      <td>21</td>\n",
       "      <td>Male</td>\n",
       "      <td>Sandals</td>\n",
       "      <td>Footwear</td>\n",
       "      <td>90</td>\n",
       "      <td>Rhode Island</td>\n",
       "      <td>M</td>\n",
       "      <td>Maroon</td>\n",
       "      <td>Spring</td>\n",
       "      <td>3.5</td>\n",
       "      <td>Yes</td>\n",
       "      <td>Next Day Air</td>\n",
       "      <td>Yes</td>\n",
       "      <td>Yes</td>\n",
       "      <td>49</td>\n",
       "      <td>PayPal</td>\n",
       "      <td>Weekly</td>\n",
       "    </tr>\n",
       "    <tr>\n",
       "      <th>4</th>\n",
       "      <td>5</td>\n",
       "      <td>45</td>\n",
       "      <td>Male</td>\n",
       "      <td>Blouse</td>\n",
       "      <td>Clothing</td>\n",
       "      <td>49</td>\n",
       "      <td>Oregon</td>\n",
       "      <td>M</td>\n",
       "      <td>Turquoise</td>\n",
       "      <td>Spring</td>\n",
       "      <td>2.7</td>\n",
       "      <td>Yes</td>\n",
       "      <td>Free Shipping</td>\n",
       "      <td>Yes</td>\n",
       "      <td>Yes</td>\n",
       "      <td>31</td>\n",
       "      <td>PayPal</td>\n",
       "      <td>Annually</td>\n",
       "    </tr>\n",
       "    <tr>\n",
       "      <th>...</th>\n",
       "      <td>...</td>\n",
       "      <td>...</td>\n",
       "      <td>...</td>\n",
       "      <td>...</td>\n",
       "      <td>...</td>\n",
       "      <td>...</td>\n",
       "      <td>...</td>\n",
       "      <td>...</td>\n",
       "      <td>...</td>\n",
       "      <td>...</td>\n",
       "      <td>...</td>\n",
       "      <td>...</td>\n",
       "      <td>...</td>\n",
       "      <td>...</td>\n",
       "      <td>...</td>\n",
       "      <td>...</td>\n",
       "      <td>...</td>\n",
       "      <td>...</td>\n",
       "    </tr>\n",
       "    <tr>\n",
       "      <th>3895</th>\n",
       "      <td>3896</td>\n",
       "      <td>40</td>\n",
       "      <td>Female</td>\n",
       "      <td>Hoodie</td>\n",
       "      <td>Clothing</td>\n",
       "      <td>28</td>\n",
       "      <td>Virginia</td>\n",
       "      <td>L</td>\n",
       "      <td>Turquoise</td>\n",
       "      <td>Summer</td>\n",
       "      <td>4.2</td>\n",
       "      <td>No</td>\n",
       "      <td>2-Day Shipping</td>\n",
       "      <td>No</td>\n",
       "      <td>No</td>\n",
       "      <td>32</td>\n",
       "      <td>Venmo</td>\n",
       "      <td>Weekly</td>\n",
       "    </tr>\n",
       "    <tr>\n",
       "      <th>3896</th>\n",
       "      <td>3897</td>\n",
       "      <td>52</td>\n",
       "      <td>Female</td>\n",
       "      <td>Backpack</td>\n",
       "      <td>Accessories</td>\n",
       "      <td>49</td>\n",
       "      <td>Iowa</td>\n",
       "      <td>L</td>\n",
       "      <td>White</td>\n",
       "      <td>Spring</td>\n",
       "      <td>4.5</td>\n",
       "      <td>No</td>\n",
       "      <td>Store Pickup</td>\n",
       "      <td>No</td>\n",
       "      <td>No</td>\n",
       "      <td>41</td>\n",
       "      <td>Bank Transfer</td>\n",
       "      <td>Bi-Weekly</td>\n",
       "    </tr>\n",
       "    <tr>\n",
       "      <th>3897</th>\n",
       "      <td>3898</td>\n",
       "      <td>46</td>\n",
       "      <td>Female</td>\n",
       "      <td>Belt</td>\n",
       "      <td>Accessories</td>\n",
       "      <td>33</td>\n",
       "      <td>New Jersey</td>\n",
       "      <td>L</td>\n",
       "      <td>Green</td>\n",
       "      <td>Spring</td>\n",
       "      <td>2.9</td>\n",
       "      <td>No</td>\n",
       "      <td>Standard</td>\n",
       "      <td>No</td>\n",
       "      <td>No</td>\n",
       "      <td>24</td>\n",
       "      <td>Venmo</td>\n",
       "      <td>Quarterly</td>\n",
       "    </tr>\n",
       "    <tr>\n",
       "      <th>3898</th>\n",
       "      <td>3899</td>\n",
       "      <td>44</td>\n",
       "      <td>Female</td>\n",
       "      <td>Shoes</td>\n",
       "      <td>Footwear</td>\n",
       "      <td>77</td>\n",
       "      <td>Minnesota</td>\n",
       "      <td>S</td>\n",
       "      <td>Brown</td>\n",
       "      <td>Summer</td>\n",
       "      <td>3.8</td>\n",
       "      <td>No</td>\n",
       "      <td>Express</td>\n",
       "      <td>No</td>\n",
       "      <td>No</td>\n",
       "      <td>24</td>\n",
       "      <td>Venmo</td>\n",
       "      <td>Weekly</td>\n",
       "    </tr>\n",
       "    <tr>\n",
       "      <th>3899</th>\n",
       "      <td>3900</td>\n",
       "      <td>52</td>\n",
       "      <td>Female</td>\n",
       "      <td>Handbag</td>\n",
       "      <td>Accessories</td>\n",
       "      <td>81</td>\n",
       "      <td>California</td>\n",
       "      <td>M</td>\n",
       "      <td>Beige</td>\n",
       "      <td>Spring</td>\n",
       "      <td>3.1</td>\n",
       "      <td>No</td>\n",
       "      <td>Store Pickup</td>\n",
       "      <td>No</td>\n",
       "      <td>No</td>\n",
       "      <td>33</td>\n",
       "      <td>Venmo</td>\n",
       "      <td>Quarterly</td>\n",
       "    </tr>\n",
       "  </tbody>\n",
       "</table>\n",
       "<p>3900 rows × 18 columns</p>\n",
       "</div>"
      ],
      "text/plain": [
       "      Customer ID  Age  Gender Item Purchased     Category  \\\n",
       "0               1   55    Male         Blouse     Clothing   \n",
       "1               2   19    Male        Sweater     Clothing   \n",
       "2               3   50    Male          Jeans     Clothing   \n",
       "3               4   21    Male        Sandals     Footwear   \n",
       "4               5   45    Male         Blouse     Clothing   \n",
       "...           ...  ...     ...            ...          ...   \n",
       "3895         3896   40  Female         Hoodie     Clothing   \n",
       "3896         3897   52  Female       Backpack  Accessories   \n",
       "3897         3898   46  Female           Belt  Accessories   \n",
       "3898         3899   44  Female          Shoes     Footwear   \n",
       "3899         3900   52  Female        Handbag  Accessories   \n",
       "\n",
       "      Purchase Amount (USD)       Location Size      Color  Season  \\\n",
       "0                        53       Kentucky    L       Gray  Winter   \n",
       "1                        64          Maine    L     Maroon  Winter   \n",
       "2                        73  Massachusetts    S     Maroon  Spring   \n",
       "3                        90   Rhode Island    M     Maroon  Spring   \n",
       "4                        49         Oregon    M  Turquoise  Spring   \n",
       "...                     ...            ...  ...        ...     ...   \n",
       "3895                     28       Virginia    L  Turquoise  Summer   \n",
       "3896                     49           Iowa    L      White  Spring   \n",
       "3897                     33     New Jersey    L      Green  Spring   \n",
       "3898                     77      Minnesota    S      Brown  Summer   \n",
       "3899                     81     California    M      Beige  Spring   \n",
       "\n",
       "      Review Rating Subscription Status   Shipping Type Discount Applied  \\\n",
       "0               3.1                 Yes         Express              Yes   \n",
       "1               3.1                 Yes         Express              Yes   \n",
       "2               3.1                 Yes   Free Shipping              Yes   \n",
       "3               3.5                 Yes    Next Day Air              Yes   \n",
       "4               2.7                 Yes   Free Shipping              Yes   \n",
       "...             ...                 ...             ...              ...   \n",
       "3895            4.2                  No  2-Day Shipping               No   \n",
       "3896            4.5                  No    Store Pickup               No   \n",
       "3897            2.9                  No        Standard               No   \n",
       "3898            3.8                  No         Express               No   \n",
       "3899            3.1                  No    Store Pickup               No   \n",
       "\n",
       "     Promo Code Used  Previous Purchases Payment Method Frequency of Purchases  \n",
       "0                Yes                  14          Venmo            Fortnightly  \n",
       "1                Yes                   2           Cash            Fortnightly  \n",
       "2                Yes                  23    Credit Card                 Weekly  \n",
       "3                Yes                  49         PayPal                 Weekly  \n",
       "4                Yes                  31         PayPal               Annually  \n",
       "...              ...                 ...            ...                    ...  \n",
       "3895              No                  32          Venmo                 Weekly  \n",
       "3896              No                  41  Bank Transfer              Bi-Weekly  \n",
       "3897              No                  24          Venmo              Quarterly  \n",
       "3898              No                  24          Venmo                 Weekly  \n",
       "3899              No                  33          Venmo              Quarterly  \n",
       "\n",
       "[3900 rows x 18 columns]"
      ]
     },
     "execution_count": 3,
     "metadata": {},
     "output_type": "execute_result"
    }
   ],
   "source": [
    "pd.read_csv('shopping_trends_updated.csv')"
   ]
  },
  {
   "cell_type": "code",
   "execution_count": 14,
   "metadata": {
    "pycharm": {
     "name": "#%%\n"
    }
   },
   "outputs": [
    {
     "data": {
      "text/plain": [
       "Index(['Customer ID', 'Age', 'Gender', 'Item Purchased', 'Category',\n",
       "       'Purchase Amount (USD)', 'Location', 'Size', 'Color', 'Season',\n",
       "       'Review Rating', 'Subscription Status', 'Payment Method',\n",
       "       'Shipping Type', 'Discount Applied', 'Promo Code Used',\n",
       "       'Previous Purchases', 'Preferred Payment Method',\n",
       "       'Frequency of Purchases'],\n",
       "      dtype='object')"
      ]
     },
     "execution_count": 14,
     "metadata": {},
     "output_type": "execute_result"
    }
   ],
   "source": [
    "trends = pd.read_csv('shopping_trends.csv')\n",
    "trends.columns"
   ]
  },
  {
   "cell_type": "markdown",
   "metadata": {
    "pycharm": {
     "name": "#%% md\n"
    }
   },
   "source": [
    "<h1>Задание 2.1</h1>"
   ]
  },
  {
   "cell_type": "markdown",
   "metadata": {
    "pycharm": {
     "name": "#%% md\n"
    }
   },
   "source": [
    "На основании данных из задания 1 необходимо составить максимальное(миним 5) кол-во гипотез о корреляциях между отдельными столбцами и проверить их (аналогично воршопу). При этом при составлении гипотез можно рассматривать не полный df, а именно выборки (например: \"женщины старше 40 лет покапают в основном осенью\")"
   ]
  },
  {
   "cell_type": "code",
   "execution_count": 15,
   "metadata": {
    "pycharm": {
     "name": "#%%\n"
    }
   },
   "outputs": [
    {
     "name": "stdout",
     "output_type": "stream",
     "text": [
      "1 гипотеза\n",
      "Проверим гипотезу, что молодые люди совершают лёгкие покупки, а взрослые более дорогие, то есть что\n",
      " Коэффициент корреляции между возрастом и суммой покупки: -0.010423647378686516\n",
      " P-значение (p-value): 0.5151978241224925\n",
      " Корреляция не статистически значима между возрастом и стоимостью покупок (p-value >= 0.05), гипотезу опровергаем.\n",
      "\n",
      "\n",
      "2 гипотеза\n",
      "Существует корреляция между рейтингом отзывов (Review Rating) и суммой покупки (Purchase Amount).\n",
      "Гипотеза звучит так: \"Покупатели, которые оставляют более высокие оценки товарам, совершают более крупные покупки.\"\n",
      " Коэффициент корреляции между рейтингом отзывов и суммой покупки: 0.03077592307391447\n",
      " P-значение (p-value): 0.054631573624773264\n",
      " Корреляция между рейтингом и стоимостью покупки не статистически значима (p-value >= 0.05), гипотезу опровергаем. Гипотезу отклоняем\n",
      "\n",
      "\n",
      "3 Гипотеза\n",
      "Существует корреляция между рейтингом отзывов (Review Rating) и частотой покупок (Frequency of Purchases).\n",
      "Гипотеза звучит так: \"Покупатели, оставляющие более высокие оценки товаров, совершают покупки чаще.\"\n",
      " Коэффициент корреляции между рейтингом отзывов и частотой покупок: 0.002461454053088695\n",
      " P-значение (p-value): 0.8778709548619869\n",
      " Корреляция между Review Rating и Frequency of Purchases не статистически значима (p-value >= 0.05). Гипотезу отклоняем.\n",
      "\n",
      "\n",
      "4 Гипотеза\n",
      "Существует корреляция между суммой покупки (Purchase Amount) и методом оплаты (Payment Method).\n",
      "Гипотеза звучит так: \"Покупатели, использующие определенный метод оплаты, совершают более крупные покупки.\"\n",
      " Результаты однофакторного дисперсионного анализа (ANOVA):\n",
      "F_onewayResult(statistic=1.7811454949409933, pvalue=0.11316179478133732)\n",
      " Различия в суммах покупок в зависимости от метода оплаты не статистически значимы (p-value >= 0.05). Гипотезу отклоняем\n",
      "\n",
      "\n",
      "5 Гипотеза\n",
      "Существует корреляция между суммой покупки (Purchase Amount) и методом оплаты (Payment Method).\n",
      "Гипотеза звучит так: \"Покупатели, использующие определенный метод оплаты, совершают более крупные покупки.\"\n",
      " Коэффициент корреляции Крамера между 'Discount Applied' и 'Promo Code Used': 0.9994767930363515\n",
      " P-значение (p-value): 0.0\n",
      " Корреляция между 'Discount Applied' и 'Promo Code Used' статистически значима (p-value < 0.05). Гипотезу принимаем\n"
     ]
    }
   ],
   "source": [
    "print('1 гипотеза')\n",
    "print('Проверим гипотезу, что молодые люди совершают лёгкие покупки, а взрослые более дорогие, то есть что') \n",
    "\n",
    "# Выберите столбцы \"Age\" и \"Purchase Amount\"\n",
    "age = trends['Age']\n",
    "purchase_amount = trends['Purchase Amount (USD)']\n",
    "\n",
    "# Вычислите коэффициент корреляции Пирсона и p-value\n",
    "correlation, p_value = pearsonr(age, purchase_amount)\n",
    "\n",
    "# Выведите коэффициент корреляции и p-value\n",
    "print(f\" Коэффициент корреляции между возрастом и суммой покупки: {correlation}\")\n",
    "print(f\" P-значение (p-value): {p_value}\")\n",
    "\n",
    "# Оцените статистическую значимость корреляции\n",
    "alpha = 0.05  # Уровень значимости\n",
    "if p_value < alpha:\n",
    "    print(\" Корреляция статистически значима между возрастом и стоимостью покупок (p-value < 0.05), гипотезу подтверждаем.\")\n",
    "else:\n",
    "    print(\" Корреляция не статистически значима между возрастом и стоимостью покупок (p-value >= 0.05), гипотезу опровергаем.\")\n",
    "\n",
    "print('\\n')\n",
    "\n",
    "print('2 гипотеза')\n",
    "print('Существует корреляция между рейтингом отзывов (Review Rating) и суммой покупки (Purchase Amount).')\n",
    "print('Гипотеза звучит так: \"Покупатели, которые оставляют более высокие оценки товарам, совершают более крупные покупки.\"') \n",
    "      \n",
    "review_rating = trends['Review Rating']\n",
    "purchase_amount = trends['Purchase Amount (USD)']\n",
    "\n",
    "correlation, p_value = pearsonr(review_rating, purchase_amount)\n",
    "\n",
    "print(f\" Коэффициент корреляции между рейтингом отзывов и суммой покупки: {correlation}\")\n",
    "print(f\" P-значение (p-value): {p_value}\")\n",
    "\n",
    "\n",
    "alpha = 0.05\n",
    "if p_value < alpha:\n",
    "    print(\" Корреляция между рейтингом и стоимостью покупки статистически значима (p-value < 0.05), гипотезу подтверждаем. Гипотезу принимаем\")\n",
    "else:\n",
    "    print(\" Корреляция между рейтингом и стоимостью покупки не статистически значима (p-value >= 0.05), гипотезу опровергаем. Гипотезу отклоняем\")\n",
    "\n",
    "print('\\n')\n",
    "\n",
    "print('3 Гипотеза')\n",
    "print('Существует корреляция между рейтингом отзывов (Review Rating) и частотой покупок (Frequency of Purchases).')\n",
    "print('Гипотеза звучит так: \"Покупатели, оставляющие более высокие оценки товаров, совершают покупки чаще.\"')\n",
    "\n",
    "review_rating = trends['Review Rating']\n",
    "frequency_of_purchases = pd.factorize(trends['Frequency of Purchases'])[0]\n",
    "\n",
    "correlation, p_value = pearsonr(review_rating, frequency_of_purchases)\n",
    "\n",
    "print(f\" Коэффициент корреляции между рейтингом отзывов и частотой покупок: {correlation}\")\n",
    "print(f\" P-значение (p-value): {p_value}\")\n",
    "\n",
    "alpha = 0.05\n",
    "if p_value < alpha:\n",
    "    print(\" Корреляция между Review Rating и Frequency of Purchases статистически значима (p-value < 0.05). Гипотезу принимаем\")\n",
    "else:\n",
    "    print(\" Корреляция между Review Rating и Frequency of Purchases не статистически значима (p-value >= 0.05). Гипотезу отклоняем.\")\n",
    "\n",
    "print('\\n')\n",
    "\n",
    "print('4 Гипотеза')\n",
    "print('Существует корреляция между суммой покупки (Purchase Amount) и методом оплаты (Payment Method).')\n",
    "print('Гипотеза звучит так: \"Покупатели, использующие определенный метод оплаты, совершают более крупные покупки.\"')\n",
    "\n",
    "purchase_amount = trends['Purchase Amount (USD)']\n",
    "payment_method = trends['Payment Method']\n",
    "\n",
    "# Применим однофакторный дисперсионный анализ (ANOVA)\n",
    "groups = trends.groupby(payment_method)\n",
    "anova_results = f_oneway(*[group[\"Purchase Amount (USD)\"] for name, group in groups])\n",
    "\n",
    "print(\" Результаты однофакторного дисперсионного анализа (ANOVA):\")\n",
    "print(anova_results)\n",
    "\n",
    "alpha = 0.05\n",
    "if anova_results.pvalue < alpha:\n",
    "    print(\" Различия в суммах покупок в зависимости от метода оплаты статистически значимы (p-value < 0.05). Гипотезу применяем\")\n",
    "else:\n",
    "    print(\" Различия в суммах покупок в зависимости от метода оплаты не статистически значимы (p-value >= 0.05). Гипотезу отклоняем\")\n",
    "\n",
    "print('\\n')\n",
    "\n",
    "print('5 Гипотеза')\n",
    "print('Существует корреляция между суммой покупки (Purchase Amount) и методом оплаты (Payment Method).')\n",
    "print('Гипотеза звучит так: \"Покупатели, использующие определенный метод оплаты, совершают более крупные покупки.\"')\n",
    "\n",
    "discount_applied = trends['Discount Applied']\n",
    "promo_code_used = trends['Promo Code Used']\n",
    "\n",
    "cross_table = pd.crosstab(discount_applied, promo_code_used)\n",
    "\n",
    "chi2, p, _, _ = chi2_contingency(cross_table)\n",
    "n = cross_table.values.sum()\n",
    "phi2 = chi2 / n\n",
    "r, k = cross_table.shape\n",
    "phi2corr = max(0, phi2 - ((k - 1) * (r - 1)) / (n - 1))\n",
    "r_corr = r - ((r - 1)**2) / (n - 1)\n",
    "k_corr = k - ((k - 1)**2) / (n - 1)\n",
    "correlation = (phi2corr / min((k_corr - 1), (r_corr - 1)))**0.5\n",
    "\n",
    "print(f\" Коэффициент корреляции Крамера между 'Discount Applied' и 'Promo Code Used': {correlation}\")\n",
    "print(f\" P-значение (p-value): {p}\")\n",
    "\n",
    "alpha = 0.05\n",
    "if p < alpha:\n",
    "    print(\" Корреляция между 'Discount Applied' и 'Promo Code Used' статистически значима (p-value < 0.05). Гипотезу принимаем\")\n",
    "else:\n",
    "    print(\" Корреляция между 'Discount Applied' и 'Promo Code Used' не статистически значима (p-value >= 0.05). Гипотезу отклоняем\")"
   ]
  },
  {
   "cell_type": "markdown",
   "metadata": {
    "pycharm": {
     "name": "#%% md\n"
    }
   },
   "source": [
    "<h1>Задание 2.2</h1>"
   ]
  },
  {
   "cell_type": "markdown",
   "metadata": {
    "pycharm": {
     "name": "#%% md\n"
    }
   },
   "source": [
    "Помимо гипотез, давайте найдем самый популярный товар, построим распределение покупателей по полу, определим какой пол(и отдельно возраст) покупает больше всего, чаще всего, самые дорогие товары. Определим есть ли зависимость между цветом одежды и сезоном. Так же посчитаем наш сезонный mau (уникальных пользователей за сезон) и его динамику. Так же давайте найдем самую популярную букву в названии одежды. "
   ]
  },
  {
   "cell_type": "code",
   "execution_count": 16,
   "metadata": {
    "pycharm": {
     "name": "#%%\n"
    }
   },
   "outputs": [
    {
     "name": "stdout",
     "output_type": "stream",
     "text": [
      "Популярный товар:\n",
      " Mean_Rating    3.864286\n",
      "Name: Gloves, dtype: float64\n",
      "Распределение покупателей по полу:\n",
      " Gender\n",
      "Male      2652\n",
      "Female    1248\n",
      "Name: count, dtype: int64\n"
     ]
    },
    {
     "data": {
      "text/html": [
       "<div>\n",
       "<style scoped>\n",
       "    .dataframe tbody tr th:only-of-type {\n",
       "        vertical-align: middle;\n",
       "    }\n",
       "\n",
       "    .dataframe tbody tr th {\n",
       "        vertical-align: top;\n",
       "    }\n",
       "\n",
       "    .dataframe thead th {\n",
       "        text-align: right;\n",
       "    }\n",
       "</style>\n",
       "<table border=\"1\" class=\"dataframe\">\n",
       "  <thead>\n",
       "    <tr style=\"text-align: right;\">\n",
       "      <th></th>\n",
       "      <th></th>\n",
       "      <th>Count_Purchase</th>\n",
       "      <th>Item Purchase</th>\n",
       "    </tr>\n",
       "    <tr>\n",
       "      <th>Gender</th>\n",
       "      <th>Age</th>\n",
       "      <th></th>\n",
       "      <th></th>\n",
       "    </tr>\n",
       "  </thead>\n",
       "  <tbody>\n",
       "    <tr>\n",
       "      <th>Male</th>\n",
       "      <th>20</th>\n",
       "      <td>3</td>\n",
       "      <td>100</td>\n",
       "    </tr>\n",
       "  </tbody>\n",
       "</table>\n",
       "</div>"
      ],
      "text/plain": [
       "            Count_Purchase  Item Purchase\n",
       "Gender Age                               \n",
       "Male   20                3            100"
      ]
     },
     "execution_count": 16,
     "metadata": {},
     "output_type": "execute_result"
    }
   ],
   "source": [
    "# Самый популярный товар ( по рейтингу )\n",
    "popular_item = trends.groupby('Item Purchased')['Review Rating'].agg(Mean_Rating='mean').sort_values(by='Mean_Rating', ascending=False).iloc[0]\n",
    "print(\"Популярный товар:\\n\", popular_item)\n",
    "\n",
    "# Распределение покупателей по полу\n",
    "gender_distribution = trends['Gender'].value_counts()\n",
    "print(\"Распределение покупателей по полу:\\n\", gender_distribution)\n",
    "\n",
    "# Кто покупает самые дорогие товары\n",
    "expensive_item = trends.groupby(['Gender', 'Age'])['Purchase Amount (USD)'].agg(Max_Purchase='max').sort_values(by='Max_Purchase', ascending=False)\n",
    "max_expensive_item = expensive_item['Max_Purchase'].max()\n",
    "\n",
    "# Больше всего возрастов мужчин покупают дорогие товары\n",
    "max_expensive_records = expensive_item[expensive_item['Max_Purchase'] == max_expensive_item]\n",
    "max_expensive_records.sort_values(by=['Gender', 'Age'])\n",
    "\n",
    "max_purchase = trends['Purchase Amount (USD)'].max()\n",
    "more_items = trends[trends['Purchase Amount (USD)'] == max_purchase]\n",
    "more_items = more_items.groupby(['Gender', 'Age'])['Item Purchased'].agg(Count_Purchase='count')\n",
    "mx = more_items['Count_Purchase'].max()\n",
    "more_items['Item Purchase'] = max_purchase\n",
    "more_items[more_items['Count_Purchase'] == mx]"
   ]
  },
  {
   "cell_type": "code",
   "execution_count": 39,
   "metadata": {
    "pycharm": {
     "name": "#%%\n"
    }
   },
   "outputs": [
    {
     "name": "stderr",
     "output_type": "stream",
     "text": [
      "C:\\Users\\Acer\\AppData\\Local\\Temp\\ipykernel_724\\3503400580.py:10: SettingWithCopyWarning: \n",
      "A value is trying to be set on a copy of a slice from a DataFrame.\n",
      "Try using .loc[row_indexer,col_indexer] = value instead\n",
      "\n",
      "See the caveats in the documentation: https://pandas.pydata.org/pandas-docs/stable/user_guide/indexing.html#returning-a-view-versus-a-copy\n",
      "  color_season['Color'] = pd.factorize(color_season['Color'])[0]\n",
      "C:\\Users\\Acer\\AppData\\Local\\Temp\\ipykernel_724\\3503400580.py:11: SettingWithCopyWarning: \n",
      "A value is trying to be set on a copy of a slice from a DataFrame.\n",
      "Try using .loc[row_indexer,col_indexer] = value instead\n",
      "\n",
      "See the caveats in the documentation: https://pandas.pydata.org/pandas-docs/stable/user_guide/indexing.html#returning-a-view-versus-a-copy\n",
      "  color_season['Season'] = pd.factorize(color_season['Season'])[0]\n"
     ]
    },
    {
     "name": "stdout",
     "output_type": "stream",
     "text": [
      "          Season     Color\n",
      "Season  1.000000  0.021034\n",
      "Color   0.021034  1.000000\n",
      "Нет статистически значимой зависимости между цветом одежды и сезоном.\n"
     ]
    }
   ],
   "source": [
    "# Какой пол ( отдельно возраст ) покупает больше всего товаров, чаще всего покупает, самые дорогие\n",
    "\n",
    "trends.groupby(['Gender', 'Age'])['Item Purchased'].agg(Count_purchased='count').sort_values(by='Count_purchased', ascending=False).iloc[0]\n",
    "\n",
    "# Мужчина в возрасте 54 года покупают больше всего товаров\n",
    "\n",
    "# Определим есть ли зависимость между цветом одежды и сезоном\n",
    "\n",
    "color_season = trends[['Season', 'Color']]\n",
    "color_season['Color'] = pd.factorize(color_season['Color'])[0]\n",
    "color_season['Season'] = pd.factorize(color_season['Season'])[0]\n",
    "print(color_season.corr())\n",
    "\n",
    "# Коэффициент корреляции 0.021034, что означает что связь есть, но она очень слабая и практически незаметная\n",
    "\n",
    "chi2, p, _, _ = chi2_contingency(cross_table)\n",
    "\n",
    "alpha = 0.05\n",
    "\n",
    "if p < alpha:\n",
    "    print(\"Есть статистически значимая зависимость между цветом одежды и сезоном.\")\n",
    "else:\n",
    "    print(\"Нет статистически значимой зависимости между цветом одежды и сезоном.\")"
   ]
  },
  {
   "cell_type": "code",
   "execution_count": 17,
   "metadata": {
    "pycharm": {
     "name": "#%%\n"
    }
   },
   "outputs": [
    {
     "name": "stdout",
     "output_type": "stream",
     "text": [
      "Сезонный MAU:\n",
      "         MAU_Season\n",
      "Season            \n",
      "Spring         999\n",
      "Fall           975\n",
      "Winter         971\n",
      "Summer         955\n",
      "Динамика сезонного MAU:\n",
      "             Season\n",
      "MAU_Season  Spring    999\n",
      "            Fall      975\n",
      "            Winter    971\n",
      "            Summer    955\n",
      "dtype: int64\n"
     ]
    }
   ],
   "source": [
    "# Для каждого сезона посчитайте MAU\n",
    "seasonly_mau = trends.groupby('Season')['Customer ID'].agg(MAU_Season='count').sort_values(by='MAU_Season', ascending=False)\n",
    "\n",
    "# Выведите сезонный MAU\n",
    "print(\"Сезонный MAU:\\n\", seasonly_mau)\n",
    "\n",
    "# Вычислите динамику MAU для каждого сезона\n",
    "seasonly_mau_dynamics = seasonly_mau.unstack()\n",
    "print(\"Динамика сезонного MAU:\\n\", seasonly_mau_dynamics)"
   ]
  },
  {
   "cell_type": "code",
   "execution_count": 19,
   "metadata": {
    "pycharm": {
     "name": "#%%\n"
    }
   },
   "outputs": [
    {
     "data": {
      "text/plain": [
       "{'B': 619,\n",
       " 'l': 964,\n",
       " 'o': 1528,\n",
       " 'u': 332,\n",
       " 's': 2483,\n",
       " 'e': 2347,\n",
       " 'S': 1580,\n",
       " 'w': 335,\n",
       " 'a': 2312,\n",
       " 't': 1749,\n",
       " 'r': 1434,\n",
       " 'J': 458,\n",
       " 'n': 914,\n",
       " 'd': 464,\n",
       " 'k': 911,\n",
       " 'h': 623,\n",
       " 'i': 625,\n",
       " 'C': 161,\n",
       " 'H': 458,\n",
       " 'b': 153,\n",
       " 'g': 314,\n",
       " 'D': 166,\n",
       " 'P': 171,\n",
       " 'c': 765,\n",
       " 'y': 171,\n",
       " 'T': 147,\n",
       " '-': 147,\n",
       " 'f': 157,\n",
       " 'p': 143,\n",
       " 'G': 140,\n",
       " 'v': 140}"
      ]
     },
     "execution_count": 19,
     "metadata": {},
     "output_type": "execute_result"
    }
   ],
   "source": [
    "# Самая популярная буква в названии одежды\n",
    "\n",
    "d = {}\n",
    "\n",
    "items = trends['Item Purchased']\n",
    "for item in items.values:\n",
    "    for symbol in item:\n",
    "        d[symbol] = d.get(symbol, 0) + 1\n",
    "\n",
    "d"
   ]
  },
  {
   "cell_type": "code",
   "execution_count": 20,
   "metadata": {
    "pycharm": {
     "name": "#%%\n"
    }
   },
   "outputs": [
    {
     "name": "stdout",
     "output_type": "stream",
     "text": [
      "Частовстречаемый элемент s с частотой повторений 2483\n"
     ]
    }
   ],
   "source": [
    "print(\"Частовстречаемый элемент {} с частотой повторений {}\".format('s', d['s']))"
   ]
  },
  {
   "cell_type": "markdown",
   "metadata": {
    "pycharm": {
     "name": "#%% md\n"
    }
   },
   "source": [
    "<h1>Задание 3</h1> \n",
    "\n",
    "У нас есть данные о потреблении алкоголя о потреблнеии Алкоголя в мире https://github.com/fivethirtyeight/data/tree/master/alcohol-consumption. \n",
    "\n",
    "Давайте представим эти данные в виде df, где же люди пьют больше вина, пива и других спиртных напитков."
   ]
  },
  {
   "cell_type": "code",
   "execution_count": 21,
   "metadata": {
    "pycharm": {
     "name": "#%%\n"
    }
   },
   "outputs": [
    {
     "name": "stdout",
     "output_type": "stream",
     "text": [
      "Страна с наибольшим потреблением вина: France\n",
      "Страна с наибольшим потреблением пива: Namibia\n",
      "Страна с наибольшим потреблением других спиртных напитков: Grenada\n"
     ]
    }
   ],
   "source": [
    "url = \"https://raw.githubusercontent.com/fivethirtyeight/data/master/alcohol-consumption/drinks.csv\"\n",
    "df = pd.read_csv(url)\n",
    "\n",
    "# Найдем страну, где потребление вина, пива и других спиртных напитков наибольшее\n",
    "country_with_most_wine = df[df['wine_servings'] == df['wine_servings'].max()]['country'].values[0]\n",
    "country_with_most_beer = df[df['beer_servings'] == df['beer_servings'].max()]['country'].values[0]\n",
    "country_with_most_spirit = df[df['spirit_servings'] == df['spirit_servings'].max()]['country'].values[0]\n",
    "\n",
    "print(f\"Страна с наибольшим потреблением вина: {country_with_most_wine}\")\n",
    "print(f\"Страна с наибольшим потреблением пива: {country_with_most_beer}\")\n",
    "print(f\"Страна с наибольшим потреблением других спиртных напитков: {country_with_most_spirit}\")"
   ]
  },
  {
   "cell_type": "markdown",
   "metadata": {
    "pycharm": {
     "name": "#%% md\n"
    }
   },
   "source": [
    "<h1>Задание 4</h1> \n",
    "\n",
    "У нас есть Полный каталог всех случаев, когда кто-то проклинал или истекал кровью в фильме Квентина Тарантино. https://github.com/fivethirtyeight/data/tree/master/tarantino\n",
    "\n",
    "Давайте представим эти данные в виде df и определим:\n",
    "\n",
    "- число проклятий, летальных исходов и их отношение по фильмам \n",
    "\n",
    "- частота употребления конкретных прокрятий \n",
    "\n",
    "- распределение времени между проклятиями "
   ]
  },
  {
   "cell_type": "code",
   "execution_count": 22,
   "metadata": {
    "pycharm": {
     "name": "#%%\n"
    }
   },
   "outputs": [
    {
     "data": {
      "text/html": [
       "<div>\n",
       "<style scoped>\n",
       "    .dataframe tbody tr th:only-of-type {\n",
       "        vertical-align: middle;\n",
       "    }\n",
       "\n",
       "    .dataframe tbody tr th {\n",
       "        vertical-align: top;\n",
       "    }\n",
       "\n",
       "    .dataframe thead th {\n",
       "        text-align: right;\n",
       "    }\n",
       "</style>\n",
       "<table border=\"1\" class=\"dataframe\">\n",
       "  <thead>\n",
       "    <tr style=\"text-align: right;\">\n",
       "      <th></th>\n",
       "      <th>movie</th>\n",
       "      <th>type</th>\n",
       "      <th>word</th>\n",
       "      <th>minutes_in</th>\n",
       "    </tr>\n",
       "  </thead>\n",
       "  <tbody>\n",
       "    <tr>\n",
       "      <th>0</th>\n",
       "      <td>Reservoir Dogs</td>\n",
       "      <td>word</td>\n",
       "      <td>dick</td>\n",
       "      <td>0.40</td>\n",
       "    </tr>\n",
       "    <tr>\n",
       "      <th>1</th>\n",
       "      <td>Reservoir Dogs</td>\n",
       "      <td>word</td>\n",
       "      <td>dicks</td>\n",
       "      <td>0.43</td>\n",
       "    </tr>\n",
       "    <tr>\n",
       "      <th>2</th>\n",
       "      <td>Reservoir Dogs</td>\n",
       "      <td>word</td>\n",
       "      <td>fucked</td>\n",
       "      <td>0.55</td>\n",
       "    </tr>\n",
       "    <tr>\n",
       "      <th>3</th>\n",
       "      <td>Reservoir Dogs</td>\n",
       "      <td>word</td>\n",
       "      <td>fucking</td>\n",
       "      <td>0.61</td>\n",
       "    </tr>\n",
       "    <tr>\n",
       "      <th>4</th>\n",
       "      <td>Reservoir Dogs</td>\n",
       "      <td>word</td>\n",
       "      <td>bullshit</td>\n",
       "      <td>0.61</td>\n",
       "    </tr>\n",
       "    <tr>\n",
       "      <th>...</th>\n",
       "      <td>...</td>\n",
       "      <td>...</td>\n",
       "      <td>...</td>\n",
       "      <td>...</td>\n",
       "    </tr>\n",
       "    <tr>\n",
       "      <th>1889</th>\n",
       "      <td>Jackie Brown</td>\n",
       "      <td>word</td>\n",
       "      <td>motherfucker</td>\n",
       "      <td>141.93</td>\n",
       "    </tr>\n",
       "    <tr>\n",
       "      <th>1890</th>\n",
       "      <td>Jackie Brown</td>\n",
       "      <td>word</td>\n",
       "      <td>ass</td>\n",
       "      <td>142.43</td>\n",
       "    </tr>\n",
       "    <tr>\n",
       "      <th>1891</th>\n",
       "      <td>Jackie Brown</td>\n",
       "      <td>word</td>\n",
       "      <td>fucking</td>\n",
       "      <td>142.47</td>\n",
       "    </tr>\n",
       "    <tr>\n",
       "      <th>1892</th>\n",
       "      <td>Jackie Brown</td>\n",
       "      <td>word</td>\n",
       "      <td>goddamn</td>\n",
       "      <td>142.97</td>\n",
       "    </tr>\n",
       "    <tr>\n",
       "      <th>1893</th>\n",
       "      <td>Jackie Brown</td>\n",
       "      <td>death</td>\n",
       "      <td>NaN</td>\n",
       "      <td>143.13</td>\n",
       "    </tr>\n",
       "  </tbody>\n",
       "</table>\n",
       "<p>1894 rows × 4 columns</p>\n",
       "</div>"
      ],
      "text/plain": [
       "               movie   type          word  minutes_in\n",
       "0     Reservoir Dogs   word          dick        0.40\n",
       "1     Reservoir Dogs   word         dicks        0.43\n",
       "2     Reservoir Dogs   word        fucked        0.55\n",
       "3     Reservoir Dogs   word       fucking        0.61\n",
       "4     Reservoir Dogs   word      bullshit        0.61\n",
       "...              ...    ...           ...         ...\n",
       "1889    Jackie Brown   word  motherfucker      141.93\n",
       "1890    Jackie Brown   word           ass      142.43\n",
       "1891    Jackie Brown   word       fucking      142.47\n",
       "1892    Jackie Brown   word       goddamn      142.97\n",
       "1893    Jackie Brown  death           NaN      143.13\n",
       "\n",
       "[1894 rows x 4 columns]"
      ]
     },
     "execution_count": 22,
     "metadata": {},
     "output_type": "execute_result"
    }
   ],
   "source": [
    "# Загрузка данных из CSV файла\n",
    "url = \"https://raw.githubusercontent.com/fivethirtyeight/data/master/tarantino/tarantino.csv\"\n",
    "df = pd.read_csv(url)\n",
    "df"
   ]
  },
  {
   "cell_type": "code",
   "execution_count": 41,
   "metadata": {
    "pycharm": {
     "name": "#%%\n"
    }
   },
   "outputs": [
    {
     "name": "stdout",
     "output_type": "stream",
     "text": [
      "                     Total_Curses  Lethal_Outcomes  Lethal/Curses Ratio\n",
      "movie                                                                  \n",
      "Django Unchained              262               47             0.179389\n",
      "Inglorious Basterds            58               48             0.827586\n",
      "Jackie Brown                  368                4             0.010870\n",
      "Kill Bill: Vol. 1              57               63             1.105263\n",
      "Kill Bill: Vol. 2              69               11             0.159420\n",
      "Pulp Fiction                  469                7             0.014925\n",
      "Reservoir Dogs                419               10             0.023866\n",
      "     curse word's  frequency\n",
      "0         fucking        407\n",
      "1            shit        221\n",
      "2            fuck        213\n",
      "3         n-word         179\n",
      "4             ass        140\n",
      "5         goddamn        113\n",
      "6    motherfucker         70\n",
      "7           bitch         64\n",
      "8            hell         45\n",
      "9            damn         37\n",
      "10  motherfucking         27\n",
      "11         fucked         25\n",
      "12       bullshit         15\n",
      "13  motherfuckers         15\n",
      "14           dick         13\n",
      "15          pussy         11\n",
      "16        asshole         10\n",
      "17        bastard         10\n",
      "18        bitches          9\n",
      "19         fucker          8\n",
      "20       assholes          5\n",
      "21         negro           5\n",
      "22          asses          4\n",
      "23         shitty          4\n",
      "24          dicks          4\n",
      "25         damned          3\n",
      "26          fucks          3\n",
      "27       shithead          3\n",
      "28      horseshit          2\n",
      "29          gooks          2\n",
      "30           japs          2\n",
      "31           cunt          2\n",
      "32       shitload          2\n",
      "33     cocksucker          2\n",
      "34        wetback          2\n",
      "35        fuckers          1\n",
      "36       horeshit          1\n",
      "37            jap          1\n",
      "38      shittiest          1\n",
      "39         fuckup          1\n",
      "40        jackass          1\n",
      "41      goddamned          1\n",
      "42           slut          1\n",
      "43          squaw          1\n",
      "44        asshead          1\n",
      "45       shitting          1\n",
      "46       shitless          1\n",
      "47       bastards          1\n",
      "48       dickless          1\n",
      "49     jew (verb)          1\n",
      "50   cockblockery          1\n",
      "51       fuckface          1\n",
      "52          cunts          1\n",
      "53         faggot          1\n",
      "54           gook          1\n",
      "55          merde          1\n",
      "56       fuckhead          1\n",
      "57          slope          1\n",
      "58    chickenshit          1\n",
      "59        dumbass          1\n"
     ]
    },
    {
     "data": {
      "image/png": "[encoded data removed]",
      "text/plain": [
       "<Figure size 640x480 with 1 Axes>"
      ]
     },
     "metadata": {},
     "output_type": "display_data"
    }
   ],
   "source": [
    "# 1. Число проклятий, летальных исходов и их отношение по фильмам\n",
    "film_stats = df.groupby('movie')['type'].agg(Total_Curses='count')\n",
    "film_stats['Total_Curses'] = df[df.type == 'word'].groupby('movie')['type'].count()\n",
    "film_stats['Lethal_Outcomes'] = df[df.type == 'death'].groupby('movie')['type'].count()\n",
    "film_stats['Lethal/Curses Ratio'] = film_stats['Lethal_Outcomes'] / film_stats['Total_Curses']\n",
    "\n",
    "print(film_stats)\n",
    "\n",
    "# 2. Частота употребления конкретных проклятий\n",
    "curse_freq = df['word'].value_counts().reset_index()\n",
    "curse_freq.columns = ['curse word\\'s', 'frequency']\n",
    "\n",
    "print(curse_freq)\n",
    "\n",
    "# 3. Распределение времени между проклятиями\n",
    "\n",
    "df['time_difference'] = df['minutes_in'].diff()\n",
    "\n",
    "df = df[1:]\n",
    "\n",
    "# Создайте гистограмму для визуализации распределения времени между словами\n",
    "plt.hist(df['time_difference'], bins=50, edgecolor='k')\n",
    "plt.xlabel('Время между словами (секунды)')\n",
    "plt.ylabel('Частота')\n",
    "plt.title('Распределение времени между словами')\n",
    "plt.show()"
   ]
  },
  {
   "cell_type": "code",
   "execution_count": null,
   "metadata": {
    "pycharm": {
     "name": "#%%\n"
    }
   },
   "outputs": [],
   "source": []
  }
 ],
 "metadata": {
  "kernelspec": {
   "display_name": "Python 3 (ipykernel)",
   "language": "python",
   "name": "python3"
  },
  "language_info": {
   "codemirror_mode": {
    "name": "ipython",
    "version": 3
   },
   "file_extension": ".py",
   "mimetype": "text/x-python",
   "name": "python",
   "nbconvert_exporter": "python",
   "pygments_lexer": "ipython3",
   "version": "3.12.0"
  }
 },
 "nbformat": 4,
 "nbformat_minor": 4
}