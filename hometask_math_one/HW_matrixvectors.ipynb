{
 "cells": [
  {
   "cell_type": "markdown",
   "id": "d5a91e7b-eb3b-44d1-98d2-119ae710a44f",
   "metadata": {},
   "source": [
    "### Сделайте транспонирование матрицы без использования numpy и других библиотек"
   ]
  },
  {
   "cell_type": "code",
   "execution_count": 1,
   "id": "69ea023a-fd96-4fbe-b16e-7be6d2954b2a",
   "metadata": {
    "tags": []
   },
   "outputs": [
    {
     "data": {
      "text/plain": [
       "[[1, 4, 7], [2, 5, 8], [3, 6, 9]]"
      ]
     },
     "execution_count": 1,
     "metadata": {},
     "output_type": "execute_result"
    }
   ],
   "source": [
    "def transpose(matrix):\n",
    "\n",
    "    transposed = []\n",
    "\n",
    "    for idx in range(len(matrix[0])):\n",
    "        transposed.append([matrix[jdx][idx] for jdx in range(len(matrix))])\n",
    "\n",
    "    return transposed\n",
    "\n",
    "matrix = [[1, 2, 3], [4, 5, 6], [7, 8, 9]]\n",
    "transpose(matrix)"
   ]
  },
  {
   "cell_type": "code",
   "execution_count": 2,
   "id": "0426e312-45be-4e71-abac-538ec0904cad",
   "metadata": {
    "tags": []
   },
   "outputs": [],
   "source": [
    "import numpy as np"
   ]
  },
  {
   "cell_type": "markdown",
   "id": "17f91599-e6be-4187-8ef1-9b95b3f01149",
   "metadata": {},
   "source": [
    "### Теперь сделайте транспонирование с помощью numpy"
   ]
  },
  {
   "cell_type": "code",
   "execution_count": 3,
   "id": "fd65eae8-5159-4a2e-8529-f2d14dceed5d",
   "metadata": {
    "tags": []
   },
   "outputs": [],
   "source": [
    "matrix = np.array([[1, 2, 3],\n",
    "                   [4, 5, 6],\n",
    "                   [7, 8, 9]])"
   ]
  },
  {
   "cell_type": "code",
   "execution_count": 4,
   "id": "8bc1e220-21df-4615-8961-b332922faf0a",
   "metadata": {},
   "outputs": [
    {
     "data": {
      "text/plain": [
       "array([[1, 4, 7],\n",
       "       [2, 5, 8],\n",
       "       [3, 6, 9]])"
      ]
     },
     "execution_count": 4,
     "metadata": {},
     "output_type": "execute_result"
    }
   ],
   "source": [
    "# Ваш код здесь\n",
    "matrix.T"
   ]
  },
  {
   "cell_type": "markdown",
   "id": "128d8403-bafa-4479-99ea-380ff89d7d74",
   "metadata": {
    "tags": []
   },
   "source": [
    "### Сделайте умножение транспонированного input_vector на weights_matrix"
   ]
  },
  {
   "cell_type": "code",
   "execution_count": 5,
   "id": "22cdd830-7d55-463c-923b-1dbe4fa75790",
   "metadata": {},
   "outputs": [
    {
     "name": "stdout",
     "output_type": "stream",
     "text": [
      "[[0.64106741 0.51749286]]\n"
     ]
    }
   ],
   "source": [
    "def sigmoid(x):\n",
    "    return 1 / (1 + np.exp(-x))\n",
    "\n",
    "input_vector = np.array([[0.5], \n",
    "                         [0.8]])\n",
    "\n",
    "weights_matrix = np.array([[0.2, 0.3], \n",
    "                           [0.6, -0.1]])\n",
    "\n",
    "hidden_layer_output = sigmoid(input_vector.T @ weights_matrix)\n",
    "\n",
    "print(hidden_layer_output)"
   ]
  },
  {
   "cell_type": "markdown",
   "id": "b3cfd29e-5f3b-4485-9b26-b9d787dd68b7",
   "metadata": {},
   "source": [
    "\n",
    "### Используя матричные операции, найдите веса линейной регрессии.\n",
    "\n",
    "Пусть у вас есть следующие данные:\n",
    "\n",
    "- $ X $ - матрица признаков размерности $ m \\times n $, где $ m $ - количество объектов, а $ n $ - количество признаков.\n",
    "- $ y $ - вектор ответов размерности $ m \\times n $\n",
    "\n",
    "Веса линейной регрессии $ w $ можно найти по формуле:\n",
    "\n",
    "$  w = (X^T X)^{-1} X^T y  $ (-1 - это обратная матрица)\n",
    "\n",
    "Напишите функцию, для нахождения $w$\n"
   ]
  },
  {
   "cell_type": "code",
   "execution_count": 6,
   "id": "a621a13c-9799-4110-b892-d48b28f0f737",
   "metadata": {
    "tags": []
   },
   "outputs": [],
   "source": [
    "import numpy as np\n",
    "\n",
    "def compute_weights(X, y):\n",
    "    xtx = X.T @ X\n",
    "\n",
    "    if np.linalg.det(xtx) == 0:\n",
    "        raise ValueError(\"Матрица X^T X необратима. Проверьте наличие коллинеарных признаков.\")\n",
    "    \n",
    "    w = np.linalg.inv(xtx) @ X.T @ y\n",
    "\n",
    "    return w\n"
   ]
  },
  {
   "cell_type": "code",
   "execution_count": 23,
   "id": "fff97881-339f-437b-9364-d810a3bebd51",
   "metadata": {
    "tags": []
   },
   "outputs": [],
   "source": [
    "X = np.array([\n",
    "    [1, 2, 3, 6, 5, 6],\n",
    "    [2, 4, 2, 4, 6, 7],\n",
    "    [3, 6, 4, 8, 7, 8],\n",
    "    [4, 8, 3, 6, 8, 9],\n",
    "    [5, 10, 5, 10, 9, 10],\n",
    "    [6, 12, 1, 2, 10, 11]\n",
    "])\n"
   ]
  },
  {
   "cell_type": "code",
   "execution_count": 24,
   "id": "1ecba44a",
   "metadata": {},
   "outputs": [
    {
     "ename": "ValueError",
     "evalue": "Матрица X^T X необратима. Проверьте наличие коллинеарных признаков.",
     "output_type": "error",
     "traceback": [
      "\u001b[1;31m---------------------------------------------------------------------------\u001b[0m",
      "\u001b[1;31mValueError\u001b[0m                                Traceback (most recent call last)",
      "\u001b[1;32mc:\\Users\\Acer\\Downloads\\HW_matrixvectors.ipynb Ячейка 12\u001b[0m line \u001b[0;36m2\n\u001b[0;32m      <a href='vscode-notebook-cell:/c%3A/Users/Acer/Downloads/HW_matrixvectors.ipynb#X33sZmlsZQ%3D%3D?line=0'>1</a>\u001b[0m y \u001b[39m=\u001b[39m np\u001b[39m.\u001b[39mrandom\u001b[39m.\u001b[39mrand(\u001b[39m6\u001b[39m, \u001b[39m1\u001b[39m)\n\u001b[1;32m----> <a href='vscode-notebook-cell:/c%3A/Users/Acer/Downloads/HW_matrixvectors.ipynb#X33sZmlsZQ%3D%3D?line=1'>2</a>\u001b[0m weights \u001b[39m=\u001b[39m compute_weights(X, y)\n",
      "\u001b[1;32mc:\\Users\\Acer\\Downloads\\HW_matrixvectors.ipynb Ячейка 12\u001b[0m line \u001b[0;36m7\n\u001b[0;32m      <a href='vscode-notebook-cell:/c%3A/Users/Acer/Downloads/HW_matrixvectors.ipynb#X33sZmlsZQ%3D%3D?line=3'>4</a>\u001b[0m xtx \u001b[39m=\u001b[39m X\u001b[39m.\u001b[39mT \u001b[39m@\u001b[39m X\n\u001b[0;32m      <a href='vscode-notebook-cell:/c%3A/Users/Acer/Downloads/HW_matrixvectors.ipynb#X33sZmlsZQ%3D%3D?line=5'>6</a>\u001b[0m \u001b[39mif\u001b[39;00m np\u001b[39m.\u001b[39mlinalg\u001b[39m.\u001b[39mdet(xtx) \u001b[39m==\u001b[39m \u001b[39m0\u001b[39m:\n\u001b[1;32m----> <a href='vscode-notebook-cell:/c%3A/Users/Acer/Downloads/HW_matrixvectors.ipynb#X33sZmlsZQ%3D%3D?line=6'>7</a>\u001b[0m     \u001b[39mraise\u001b[39;00m \u001b[39mValueError\u001b[39;00m(\u001b[39m\"\u001b[39m\u001b[39mМатрица X^T X необратима. Проверьте наличие коллинеарных признаков.\u001b[39m\u001b[39m\"\u001b[39m)\n\u001b[0;32m      <a href='vscode-notebook-cell:/c%3A/Users/Acer/Downloads/HW_matrixvectors.ipynb#X33sZmlsZQ%3D%3D?line=8'>9</a>\u001b[0m w \u001b[39m=\u001b[39m np\u001b[39m.\u001b[39mlinalg\u001b[39m.\u001b[39minv(xtx) \u001b[39m@\u001b[39m X\u001b[39m.\u001b[39mT \u001b[39m@\u001b[39m y\n\u001b[0;32m     <a href='vscode-notebook-cell:/c%3A/Users/Acer/Downloads/HW_matrixvectors.ipynb#X33sZmlsZQ%3D%3D?line=10'>11</a>\u001b[0m \u001b[39mreturn\u001b[39;00m w\n",
      "\u001b[1;31mValueError\u001b[0m: Матрица X^T X необратима. Проверьте наличие коллинеарных признаков."
     ]
    }
   ],
   "source": [
    "y = np.random.rand(6, 1)\n",
    "weights = compute_weights(X, y)"
   ]
  },
  {
   "cell_type": "markdown",
   "id": "5b0ef33b-7876-4d23-805e-b293a4184042",
   "metadata": {},
   "source": [
    "### В том случае, если у матрицы есть линейно зависимые столбцы посчитать веса не получится"
   ]
  },
  {
   "cell_type": "code",
   "execution_count": 25,
   "id": "b52f5ec3-0b5d-40bb-9bcf-ca07e936bd97",
   "metadata": {
    "tags": []
   },
   "outputs": [],
   "source": [
    "X1 = np.array([\n",
    "    [1, 2, 3, 4, 5, 6],\n",
    "    [2, 4, 2, 8, 6, 7],\n",
    "    [3, 6, 4, 12, 7, 8],\n",
    "    [4, 8, 3, 16, 8, 9],\n",
    "    [5, 10, 5, 20, 9, 10],\n",
    "    [6, 12, 1, 24, 10, 11]\n",
    "])\n"
   ]
  },
  {
   "cell_type": "code",
   "execution_count": 26,
   "id": "da940697",
   "metadata": {},
   "outputs": [
    {
     "ename": "ValueError",
     "evalue": "Матрица X^T X необратима. Проверьте наличие коллинеарных признаков.",
     "output_type": "error",
     "traceback": [
      "\u001b[1;31m---------------------------------------------------------------------------\u001b[0m",
      "\u001b[1;31mValueError\u001b[0m                                Traceback (most recent call last)",
      "\u001b[1;32mc:\\Users\\Acer\\Downloads\\HW_matrixvectors.ipynb Ячейка 15\u001b[0m line \u001b[0;36m2\n\u001b[0;32m      <a href='vscode-notebook-cell:/c%3A/Users/Acer/Downloads/HW_matrixvectors.ipynb#X34sZmlsZQ%3D%3D?line=0'>1</a>\u001b[0m y1 \u001b[39m=\u001b[39m np\u001b[39m.\u001b[39mrandom\u001b[39m.\u001b[39mrand(\u001b[39m6\u001b[39m, \u001b[39m1\u001b[39m)\n\u001b[1;32m----> <a href='vscode-notebook-cell:/c%3A/Users/Acer/Downloads/HW_matrixvectors.ipynb#X34sZmlsZQ%3D%3D?line=1'>2</a>\u001b[0m weights \u001b[39m=\u001b[39m compute_weights(X1, y1)\n",
      "\u001b[1;32mc:\\Users\\Acer\\Downloads\\HW_matrixvectors.ipynb Ячейка 15\u001b[0m line \u001b[0;36m7\n\u001b[0;32m      <a href='vscode-notebook-cell:/c%3A/Users/Acer/Downloads/HW_matrixvectors.ipynb#X34sZmlsZQ%3D%3D?line=3'>4</a>\u001b[0m xtx \u001b[39m=\u001b[39m X\u001b[39m.\u001b[39mT \u001b[39m@\u001b[39m X\n\u001b[0;32m      <a href='vscode-notebook-cell:/c%3A/Users/Acer/Downloads/HW_matrixvectors.ipynb#X34sZmlsZQ%3D%3D?line=5'>6</a>\u001b[0m \u001b[39mif\u001b[39;00m np\u001b[39m.\u001b[39mlinalg\u001b[39m.\u001b[39mdet(xtx) \u001b[39m==\u001b[39m \u001b[39m0\u001b[39m:\n\u001b[1;32m----> <a href='vscode-notebook-cell:/c%3A/Users/Acer/Downloads/HW_matrixvectors.ipynb#X34sZmlsZQ%3D%3D?line=6'>7</a>\u001b[0m     \u001b[39mraise\u001b[39;00m \u001b[39mValueError\u001b[39;00m(\u001b[39m\"\u001b[39m\u001b[39mМатрица X^T X необратима. Проверьте наличие коллинеарных признаков.\u001b[39m\u001b[39m\"\u001b[39m)\n\u001b[0;32m      <a href='vscode-notebook-cell:/c%3A/Users/Acer/Downloads/HW_matrixvectors.ipynb#X34sZmlsZQ%3D%3D?line=8'>9</a>\u001b[0m w \u001b[39m=\u001b[39m np\u001b[39m.\u001b[39mlinalg\u001b[39m.\u001b[39minv(xtx) \u001b[39m@\u001b[39m X\u001b[39m.\u001b[39mT \u001b[39m@\u001b[39m y\n\u001b[0;32m     <a href='vscode-notebook-cell:/c%3A/Users/Acer/Downloads/HW_matrixvectors.ipynb#X34sZmlsZQ%3D%3D?line=10'>11</a>\u001b[0m \u001b[39mreturn\u001b[39;00m w\n",
      "\u001b[1;31mValueError\u001b[0m: Матрица X^T X необратима. Проверьте наличие коллинеарных признаков."
     ]
    }
   ],
   "source": [
    "y1 = np.random.rand(6, 1)\n",
    "weights = compute_weights(X1, y1)"
   ]
  },
  {
   "cell_type": "markdown",
   "id": "4601943f-c65a-4ae7-9d42-99f5d6d850c7",
   "metadata": {
    "tags": []
   },
   "source": [
    "### Придумайте способ, который может у любой матрицы X найти линейно зависимые столбцы и напишите такую функцию. После этого примените эту функцию к матрице X1 "
   ]
  },
  {
   "cell_type": "code",
   "execution_count": 28,
   "id": "dd399c00-bd5f-44e4-976e-19d2b546564c",
   "metadata": {},
   "outputs": [
    {
     "name": "stdout",
     "output_type": "stream",
     "text": [
      "[[ 1  2  3  6  5  6]\n",
      " [ 2  4  2  4  6  7]\n",
      " [ 3  6  4  8  7  8]\n",
      " [ 4  8  3  6  8  9]\n",
      " [ 5 10  5 10  9 10]\n",
      " [ 6 12  1  2 10 11]]\n",
      "В матрице есть линейно зависимые столбцы\n",
      "[[ 1  2  3  4  5  6]\n",
      " [ 2  4  2  8  6  7]\n",
      " [ 3  6  4 12  7  8]\n",
      " [ 4  8  3 16  8  9]\n",
      " [ 5 10  5 20  9 10]\n",
      " [ 6 12  1 24 10 11]]\n",
      "В матрице есть линейно зависимые столбцы\n",
      "[[1 2]\n",
      " [3 5]]\n",
      "В матрице нет линейно зависимых столбцов\n"
     ]
    }
   ],
   "source": [
    "#Ваш код здесь\n",
    "# Задачу можно решить несколькими способами, в частности можно найти ранг матрицы A, \n",
    "# если он равен её размерности, то матриа не имеет зависимых столбцов\n",
    "# Можно через svd разложение\n",
    "\n",
    "def linearly_dependent_columns(X):\n",
    "    def equal_linearly_dependent_columns(X):\n",
    "        U, S, Vt = np.linalg.svd(X, full_matrices=False)\n",
    "        \n",
    "        for i in range(len(S)):\n",
    "            if np.isclose(S[i], 0):\n",
    "                return True\n",
    "        \n",
    "        return False\n",
    "\n",
    "\n",
    "    equal_dependent_columns = equal_linearly_dependent_columns(X)\n",
    "    print(X)\n",
    "\n",
    "    if equal_dependent_columns:\n",
    "        print('В матрице есть линейно зависимые столбцы')\n",
    "    else:\n",
    "        print('В матрице нет линейно зависимых столбцов')\n",
    "\n",
    "linearly_dependent_columns(X)\n",
    "linearly_dependent_columns(X1)"
   ]
  },
  {
   "cell_type": "code",
   "execution_count": 13,
   "id": "a26705a9",
   "metadata": {},
   "outputs": [
    {
     "name": "stdout",
     "output_type": "stream",
     "text": [
      "[[-0.26726124  0.95618289  0.11952286]\n",
      " [-0.53452248 -0.04390192 -0.84401323]\n",
      " [-0.80178373 -0.28945968  0.52283453]] [1.40000000e+01 1.30016008e-15 0.00000000e+00] [[-0.26726124 -0.53452248 -0.80178373]\n",
      " [-0.87287156 -0.21821789  0.43643578]\n",
      " [ 0.40824829 -0.81649658  0.40824829]]\n",
      "Линейно зависимые столбцы в матрице X1: [1, 2]\n"
     ]
    }
   ],
   "source": [
    "import numpy as np\n",
    "\n",
    "def find_linearly_dependent_columns(X):\n",
    "    U, S, Vt = np.linalg.svd(X, full_matrices=False)\n",
    "    print(U, S, Vt)\n",
    "    linearly_dependent_columns = []\n",
    "    \n",
    "    for i in range(len(S)):\n",
    "        if np.isclose(S[i], 0):\n",
    "            linearly_dependent_columns.append(i)\n",
    "    \n",
    "    return linearly_dependent_columns\n",
    "\n",
    "# Пример применения к матрице X1\n",
    "X1 = np.array([\n",
    "    [1, 2, 3],\n",
    "    [2, 4, 6],\n",
    "    [3, 6, 9]\n",
    "])\n",
    "\n",
    "dependent_columns = find_linearly_dependent_columns(X1)\n",
    "print(\"Линейно зависимые столбцы в матрице X1:\", dependent_columns)\n"
   ]
  },
  {
   "cell_type": "markdown",
   "id": "efcffbc6-46da-43af-aa87-27bfff2c22a1",
   "metadata": {},
   "source": [
    "### Давайте рассмотрим матричное уравнение вида:\n",
    "\n",
    "### $ AX = B $\n",
    "\n",
    "### Напишите код, который найдет $X$\n"
   ]
  },
  {
   "cell_type": "code",
   "execution_count": 25,
   "id": "519f08a4-5c2c-43f7-ace6-3649a7279e34",
   "metadata": {},
   "outputs": [
    {
     "name": "stdout",
     "output_type": "stream",
     "text": [
      "Матрица X:\n",
      "[[-3. -4.]\n",
      " [ 4.  5.]]\n"
     ]
    }
   ],
   "source": [
    "A = np.array([[1, 2], [3, 4]])\n",
    "B = np.array([[5, 6], [7, 8]])\n",
    "X = np.linalg.inv(A) @ B\n",
    "print(\"Матрица X:\")\n",
    "print(X)"
   ]
  },
  {
   "cell_type": "markdown",
   "id": "cbbc0195-9f4d-47c4-8ee9-addcf709f4a2",
   "metadata": {},
   "source": [
    "### Напишите код, который находит собственные значения и векторы матрицы A"
   ]
  },
  {
   "cell_type": "code",
   "execution_count": 26,
   "id": "d0dfbb84-3e19-4111-a7e6-e8632f3d13da",
   "metadata": {},
   "outputs": [
    {
     "name": "stdout",
     "output_type": "stream",
     "text": [
      "Собственные значения:\n",
      "[3.5+1.32287566j 3.5-1.32287566j]\n",
      "\n",
      "Собственные векторы:\n",
      "[[0.81649658+0.j         0.81649658-0.j        ]\n",
      " [0.20412415-0.54006172j 0.20412415+0.54006172j]]\n"
     ]
    }
   ],
   "source": [
    "import numpy as np\n",
    "\n",
    "A = np.array([[4, -2],\n",
    "              [1,  3]])\n",
    "\n",
    "eigenvalues, eigenvectors = np.linalg.eig(A)\n",
    "\n",
    "print(\"Собственные значения:\")\n",
    "print(eigenvalues)\n",
    "print(\"\\nСобственные векторы:\")\n",
    "print(eigenvectors)"
   ]
  },
  {
   "cell_type": "markdown",
   "id": "00dd11ae-01a1-4654-a467-4756112d1e5d",
   "metadata": {},
   "source": [
    "### Почему числа получились какие-то странные?"
   ]
  },
  {
   "cell_type": "code",
   "execution_count": 8,
   "id": "90677b40-ea32-44c7-b74f-de0f7a906421",
   "metadata": {
    "tags": []
   },
   "outputs": [
    {
     "data": {
      "text/plain": [
       "'\\nСобственные вектора являются комплексными, потому что комплексными являются собственные значения.\\nСобственные значения являются комплексными, потому что являются решением квадратного уравнения, которое получается в процессе преобразования\\n\\n'"
      ]
     },
     "execution_count": 8,
     "metadata": {},
     "output_type": "execute_result"
    }
   ],
   "source": [
    "# Ответ тут (можно писать любые мысли)\n",
    "\n",
    "\"\"\"\n",
    "Собственные вектора являются комплексными, потому что комплексными являются собственные значения.\n",
    "Собственные значения являются комплексными, потому что собственных значений в плоскости действительных чисел нет.\n",
    "Поэтому ониявляются решением уравнения, которое получается в процессе преобразования\n",
    "A - λ * E = 0\n",
    "После преобразования получим матрицу:\n",
    "4-λ -2\n",
    " 1  3-λ\n",
    "\n",
    "=\n",
    "\n",
    "0\n",
    "\n",
    "Её детерминант должен быть равен нулю.\n",
    "Далее получаем квадратное уравнение:  λ^2 - 7*λ + 14 = 0 решением которого являются число комплексной плоксоти\n",
    "\"\"\""
   ]
  },
  {
   "cell_type": "code",
   "execution_count": null,
   "id": "0c50814e",
   "metadata": {},
   "outputs": [],
   "source": []
  }
 ],
 "metadata": {
  "kernelspec": {
   "display_name": "Python 3 (ipykernel)",
   "language": "python",
   "name": "python3"
  },
  "language_info": {
   "codemirror_mode": {
    "name": "ipython",
    "version": 3
   },
   "file_extension": ".py",
   "mimetype": "text/x-python",
   "name": "python",
   "nbconvert_exporter": "python",
   "pygments_lexer": "ipython3",
   "version": "3.10.4"
  }
 },
 "nbformat": 4,
 "nbformat_minor": 5
}
